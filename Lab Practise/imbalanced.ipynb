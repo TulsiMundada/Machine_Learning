{
 "cells": [
  {
   "cell_type": "code",
   "execution_count": 14,
   "metadata": {},
   "outputs": [
    {
     "name": "stderr",
     "output_type": "stream",
     "text": [
      "C:\\Users\\dai\\anaconda3\\Lib\\site-packages\\sklearn\\linear_model\\_logistic.py:469: ConvergenceWarning: lbfgs failed to converge (status=1):\n",
      "STOP: TOTAL NO. of ITERATIONS REACHED LIMIT.\n",
      "\n",
      "Increase the number of iterations (max_iter) or scale the data as shown in:\n",
      "    https://scikit-learn.org/stable/modules/preprocessing.html\n",
      "Please also refer to the documentation for alternative solver options:\n",
      "    https://scikit-learn.org/stable/modules/linear_model.html#logistic-regression\n",
      "  n_iter_i = _check_optimize_result(\n"
     ]
    },
    {
     "name": "stdout",
     "output_type": "stream",
     "text": [
      "              precision    recall  f1-score   support\n",
      "\n",
      "           0       0.83      0.93      0.87      2286\n",
      "           1       0.62      0.38      0.47       713\n",
      "\n",
      "    accuracy                           0.80      2999\n",
      "   macro avg       0.72      0.65      0.67      2999\n",
      "weighted avg       0.78      0.80      0.78      2999\n",
      "\n"
     ]
    },
    {
     "name": "stderr",
     "output_type": "stream",
     "text": [
      "C:\\Users\\dai\\anaconda3\\Lib\\site-packages\\sklearn\\linear_model\\_logistic.py:469: ConvergenceWarning: lbfgs failed to converge (status=1):\n",
      "STOP: TOTAL NO. of ITERATIONS REACHED LIMIT.\n",
      "\n",
      "Increase the number of iterations (max_iter) or scale the data as shown in:\n",
      "    https://scikit-learn.org/stable/modules/preprocessing.html\n",
      "Please also refer to the documentation for alternative solver options:\n",
      "    https://scikit-learn.org/stable/modules/linear_model.html#logistic-regression\n",
      "  n_iter_i = _check_optimize_result(\n"
     ]
    },
    {
     "name": "stdout",
     "output_type": "stream",
     "text": [
      "              precision    recall  f1-score   support\n",
      "\n",
      "           0       0.91      0.75      0.83      2286\n",
      "           1       0.49      0.77      0.60       713\n",
      "\n",
      "    accuracy                           0.76      2999\n",
      "   macro avg       0.70      0.76      0.71      2999\n",
      "weighted avg       0.81      0.76      0.77      2999\n",
      "\n"
     ]
    },
    {
     "name": "stderr",
     "output_type": "stream",
     "text": [
      "C:\\Users\\dai\\anaconda3\\Lib\\site-packages\\sklearn\\linear_model\\_logistic.py:469: ConvergenceWarning: lbfgs failed to converge (status=1):\n",
      "STOP: TOTAL NO. of ITERATIONS REACHED LIMIT.\n",
      "\n",
      "Increase the number of iterations (max_iter) or scale the data as shown in:\n",
      "    https://scikit-learn.org/stable/modules/preprocessing.html\n",
      "Please also refer to the documentation for alternative solver options:\n",
      "    https://scikit-learn.org/stable/modules/linear_model.html#logistic-regression\n",
      "  n_iter_i = _check_optimize_result(\n"
     ]
    },
    {
     "name": "stdout",
     "output_type": "stream",
     "text": [
      "              precision    recall  f1-score   support\n",
      "\n",
      "           0       0.90      0.77      0.83      2286\n",
      "           1       0.50      0.73      0.60       713\n",
      "\n",
      "    accuracy                           0.76      2999\n",
      "   macro avg       0.70      0.75      0.72      2999\n",
      "weighted avg       0.81      0.76      0.78      2999\n",
      "\n",
      "              precision    recall  f1-score   support\n",
      "\n",
      "           0       0.90      0.76      0.82      2286\n",
      "           1       0.48      0.72      0.58       713\n",
      "\n",
      "    accuracy                           0.75      2999\n",
      "   macro avg       0.69      0.74      0.70      2999\n",
      "weighted avg       0.80      0.75      0.77      2999\n",
      "\n"
     ]
    },
    {
     "name": "stderr",
     "output_type": "stream",
     "text": [
      "C:\\Users\\dai\\anaconda3\\Lib\\site-packages\\sklearn\\linear_model\\_logistic.py:469: ConvergenceWarning: lbfgs failed to converge (status=1):\n",
      "STOP: TOTAL NO. of ITERATIONS REACHED LIMIT.\n",
      "\n",
      "Increase the number of iterations (max_iter) or scale the data as shown in:\n",
      "    https://scikit-learn.org/stable/modules/preprocessing.html\n",
      "Please also refer to the documentation for alternative solver options:\n",
      "    https://scikit-learn.org/stable/modules/linear_model.html#logistic-regression\n",
      "  n_iter_i = _check_optimize_result(\n"
     ]
    }
   ],
   "source": [
    "import pandas as pd\n",
    "import numpy as np\n",
    "from sklearn.linear_model import LogisticRegression\n",
    "from sklearn.model_selection import train_test_split \n",
    "from sklearn.metrics import confusion_matrix, classification_report\n",
    "from sklearn.metrics import accuracy_score\n",
    "from imblearn.over_sampling import RandomOverSampler\n",
    "from imblearn.over_sampling import SMOTE\n",
    "from imblearn.over_sampling import ADASYN\n",
    "\n",
    "df = pd.read_csv(r\"C:\\Users\\dai\\Desktop\\Machine Learning\\Cases\\Cases\\human-resources-analytics\\HR_comma_sep.csv\")\n",
    "#df = pd.read_csv(r\"C:\\Users\\dai\\Desktop\\Machine Learning\\Cases\\Cases\\Cancer\\Cancer.csv\")\n",
    "dum_df = pd.get_dummies(df,drop_first=True)\n",
    "X = dum_df.drop('left',axis=1)\n",
    "y = dum_df['left']\n",
    "\n",
    "X_train,X_test,y_train,y_test = train_test_split(X,y,test_size=0.2,\n",
    "                                                 stratify=y,\n",
    "                                                 random_state=24)\n",
    "\n",
    "lr = LogisticRegression()\n",
    "################### w/o Balancing ######################\n",
    "lr.fit(X_train, y_train)\n",
    "y_pred = lr.predict(X_test)\n",
    "print(classification_report(y_test,y_pred))\n",
    "\n",
    "################### Over-Sampling(Naive) ###############\n",
    "ros = RandomOverSampler(random_state=24)\n",
    "X_resampled, y_resampled = ros.fit_resample(X_train, y_train)\n",
    "lr.fit(X_resampled, y_resampled)\n",
    "y_pred = lr.predict(X_test)\n",
    "print(classification_report(y_test,y_pred))\n",
    "\n",
    "################# Over-Sampling(SMOTE) #################\n",
    "\n",
    "smote = SMOTE(random_state=24)\n",
    "X_resampled, y_resampled = smote.fit_resample(X_train, y_train)\n",
    "lr.fit(X_resampled, y_resampled)\n",
    "y_pred = lr.predict(X_test)\n",
    "print(classification_report(y_test,y_pred))\n",
    "\n",
    "################# Over-Sampling(ADASYN) #################\n",
    "\n",
    "adasyn = ADASYN(random_state=24)\n",
    "X_resampled, y_resampled = adasyn.fit_resample(X_train, y_train)\n",
    "lr.fit(X_resampled, y_resampled)\n",
    "y_pred = lr.predict(X_test)\n",
    "print(classification_report(y_test,y_pred))\n"
   ]
  },
  {
   "cell_type": "code",
   "execution_count": null,
   "metadata": {},
   "outputs": [],
   "source": []
  }
 ],
 "metadata": {
  "kernelspec": {
   "display_name": "Python 3 (ipykernel)",
   "language": "python",
   "name": "python3"
  }
 },
 "nbformat": 4,
 "nbformat_minor": 2
}
