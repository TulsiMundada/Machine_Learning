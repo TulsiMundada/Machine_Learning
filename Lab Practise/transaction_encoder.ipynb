{
 "cells": [
  {
   "cell_type": "code",
   "execution_count": 34,
   "metadata": {},
   "outputs": [],
   "source": [
    "import matplotlib.pyplot as plt\n",
    "import pandas as pd\n",
    "from mlxtend.frequent_patterns import apriori\n",
    "from mlxtend.frequent_patterns import association_rules \n",
    "from mlxtend.preprocessing import TransactionEncoder\n",
    "import os"
   ]
  },
  {
   "cell_type": "code",
   "execution_count": 37,
   "metadata": {},
   "outputs": [],
   "source": [
    "\n",
    "groceries = []\n",
    "with open(r\"C:/Users\\dai\\Desktop\\Machine Learning\\Datasets\\Groceries.csv\",'r') as f:groceries = f.read()\n",
    "groceries = groceries.split(\"/n\")"
   ]
  },
  {
   "cell_type": "code",
   "execution_count": 38,
   "metadata": {},
   "outputs": [],
   "source": [
    "groceries_list = []\n",
    "for i in groceries:\n",
    "    groceries_list.append(i.split(\",\"))"
   ]
  },
  {
   "cell_type": "code",
   "execution_count": 39,
   "metadata": {},
   "outputs": [
    {
     "data": {
      "text/plain": [
       "array([[ True,  True,  True, ...,  True,  True,  True]])"
      ]
     },
     "execution_count": 39,
     "metadata": {},
     "output_type": "execute_result"
    }
   ],
   "source": [
    "te = TransactionEncoder()\n",
    "te_ary = te.fit(groceries_list).transform(groceries_list)\n",
    "te_ary"
   ]
  },
  {
   "cell_type": "code",
   "execution_count": 43,
   "metadata": {},
   "outputs": [
    {
     "data": {
      "text/html": [
       "<div>\n",
       "<style scoped>\n",
       "    .dataframe tbody tr th:only-of-type {\n",
       "        vertical-align: middle;\n",
       "    }\n",
       "\n",
       "    .dataframe tbody tr th {\n",
       "        vertical-align: top;\n",
       "    }\n",
       "\n",
       "    .dataframe thead th {\n",
       "        text-align: right;\n",
       "    }\n",
       "</style>\n",
       "<table border=\"1\" class=\"dataframe\">\n",
       "  <thead>\n",
       "    <tr style=\"text-align: right;\">\n",
       "      <th></th>\n",
       "      <th>Instant food products</th>\n",
       "      <th>Instant food products\\nberries</th>\n",
       "      <th>Instant food products\\nbottled beer\\npip fruit</th>\n",
       "      <th>Instant food products\\ncanned beer\\ncanned beer\\nfrankfurter</th>\n",
       "      <th>Instant food products\\nchicken</th>\n",
       "      <th>Instant food products\\ncream cheese</th>\n",
       "      <th>Instant food products\\nfrankfurter\\ntropical fruit</th>\n",
       "      <th>Instant food products\\nfrozen vegetables</th>\n",
       "      <th>Instant food products\\nhamburger meat</th>\n",
       "      <th>Instant food products\\nsausage</th>\n",
       "      <th>...</th>\n",
       "      <th>yogurt\\nwhole milk\\nwhipped/sour cream</th>\n",
       "      <th>yogurt\\nyogurt</th>\n",
       "      <th>yogurt\\nyogurt\\nyogurt\\nbottled water\\nberries</th>\n",
       "      <th>zwieback</th>\n",
       "      <th>zwieback\\nUHT-milk</th>\n",
       "      <th>zwieback\\nbeef</th>\n",
       "      <th>zwieback\\nchicken</th>\n",
       "      <th>zwieback\\ncitrus fruit</th>\n",
       "      <th>zwieback\\nfrankfurter</th>\n",
       "      <th>zwieback\\nother vegetables</th>\n",
       "    </tr>\n",
       "  </thead>\n",
       "  <tbody>\n",
       "    <tr>\n",
       "      <th>0</th>\n",
       "      <td>True</td>\n",
       "      <td>True</td>\n",
       "      <td>True</td>\n",
       "      <td>True</td>\n",
       "      <td>True</td>\n",
       "      <td>True</td>\n",
       "      <td>True</td>\n",
       "      <td>True</td>\n",
       "      <td>True</td>\n",
       "      <td>True</td>\n",
       "      <td>...</td>\n",
       "      <td>True</td>\n",
       "      <td>True</td>\n",
       "      <td>True</td>\n",
       "      <td>True</td>\n",
       "      <td>True</td>\n",
       "      <td>True</td>\n",
       "      <td>True</td>\n",
       "      <td>True</td>\n",
       "      <td>True</td>\n",
       "      <td>True</td>\n",
       "    </tr>\n",
       "  </tbody>\n",
       "</table>\n",
       "<p>1 rows × 3977 columns</p>\n",
       "</div>"
      ],
      "text/plain": [
       "   Instant food products  Instant food products\\nberries  \\\n",
       "0                   True                            True   \n",
       "\n",
       "   Instant food products\\nbottled beer\\npip fruit  \\\n",
       "0                                            True   \n",
       "\n",
       "   Instant food products\\ncanned beer\\ncanned beer\\nfrankfurter  \\\n",
       "0                                               True              \n",
       "\n",
       "   Instant food products\\nchicken  Instant food products\\ncream cheese  \\\n",
       "0                            True                                 True   \n",
       "\n",
       "   Instant food products\\nfrankfurter\\ntropical fruit  \\\n",
       "0                                               True    \n",
       "\n",
       "   Instant food products\\nfrozen vegetables  \\\n",
       "0                                      True   \n",
       "\n",
       "   Instant food products\\nhamburger meat  Instant food products\\nsausage  ...  \\\n",
       "0                                   True                            True  ...   \n",
       "\n",
       "   yogurt\\nwhole milk\\nwhipped/sour cream  yogurt\\nyogurt  \\\n",
       "0                                    True            True   \n",
       "\n",
       "   yogurt\\nyogurt\\nyogurt\\nbottled water\\nberries  zwieback  \\\n",
       "0                                            True      True   \n",
       "\n",
       "   zwieback\\nUHT-milk  zwieback\\nbeef  zwieback\\nchicken  \\\n",
       "0                True            True               True   \n",
       "\n",
       "   zwieback\\ncitrus fruit  zwieback\\nfrankfurter  zwieback\\nother vegetables  \n",
       "0                    True                   True                        True  \n",
       "\n",
       "[1 rows x 3977 columns]"
      ]
     },
     "execution_count": 43,
     "metadata": {},
     "output_type": "execute_result"
    }
   ],
   "source": [
    "fp_df = pd.DataFrame(te_ary,columns=te.columns_)\n",
    "fp_df"
   ]
  },
  {
   "cell_type": "code",
   "execution_count": 46,
   "metadata": {},
   "outputs": [],
   "source": [
    "#Supprt of 1-tem freq sets\n",
    "itemFrequency = fp_df.sum(axis=0) / len(fp_df)\n",
    "itemFrequency = itemFrequency.sort_values(ascending=False)\n",
    "\n"
   ]
  },
  {
   "cell_type": "code",
   "execution_count": 47,
   "metadata": {},
   "outputs": [
    {
     "data": {
      "text/plain": [
       "<Figure size 640x480 with 1 Axes>"
      ]
     },
     "metadata": {},
     "output_type": "display_data"
    }
   ],
   "source": [
    "ax = itemFrequency[:10].plot.barh(color='blue')\n",
    "plt.ylabel(\"Item Frequency (relative) of Top 10\")\n",
    "plt.show()\n"
   ]
  },
  {
   "cell_type": "code",
   "execution_count": 48,
   "metadata": {},
   "outputs": [
    {
     "ename": "KeyboardInterrupt",
     "evalue": "",
     "output_type": "error",
     "traceback": [
      "\u001b[1;31m---------------------------------------------------------------------------\u001b[0m",
      "\u001b[1;31mKeyboardInterrupt\u001b[0m                         Traceback (most recent call last)",
      "Cell \u001b[1;32mIn[48], line 1\u001b[0m\n\u001b[1;32m----> 1\u001b[0m itemsets \u001b[38;5;241m=\u001b[39m apriori(fp_df,min_support\u001b[38;5;241m=\u001b[39m\u001b[38;5;241m0.01\u001b[39m,use_colnames\u001b[38;5;241m=\u001b[39m\u001b[38;5;28;01mTrue\u001b[39;00m)\n\u001b[0;32m      4\u001b[0m rules \u001b[38;5;241m=\u001b[39m association_rules(itemsets, metric\u001b[38;5;241m=\u001b[39m\u001b[38;5;124m'\u001b[39m\u001b[38;5;124mconfidence\u001b[39m\u001b[38;5;124m'\u001b[39m,min_threshold\u001b[38;5;241m=\u001b[39m\u001b[38;5;241m0.6\u001b[39m)\n\u001b[0;32m      5\u001b[0m \u001b[38;5;28mprint\u001b[39m(rules[[\u001b[38;5;124m'\u001b[39m\u001b[38;5;124mantecedents\u001b[39m\u001b[38;5;124m'\u001b[39m,\u001b[38;5;124m'\u001b[39m\u001b[38;5;124mconsequents\u001b[39m\u001b[38;5;124m'\u001b[39m,\u001b[38;5;124m'\u001b[39m\u001b[38;5;124msupport\u001b[39m\u001b[38;5;124m'\u001b[39m,\u001b[38;5;124m'\u001b[39m\u001b[38;5;124mconfidence\u001b[39m\u001b[38;5;124m'\u001b[39m,\u001b[38;5;124m'\u001b[39m\u001b[38;5;124mlift\u001b[39m\u001b[38;5;124m'\u001b[39m]])\n",
      "File \u001b[1;32m~\\anaconda3\\Lib\\site-packages\\mlxtend\\frequent_patterns\\apriori.py:292\u001b[0m, in \u001b[0;36mapriori\u001b[1;34m(df, min_support, use_colnames, max_len, verbose, low_memory)\u001b[0m\n\u001b[0;32m    290\u001b[0m \u001b[38;5;28;01melse\u001b[39;00m:\n\u001b[0;32m    291\u001b[0m     combin \u001b[38;5;241m=\u001b[39m generate_new_combinations(itemset_dict[max_itemset])\n\u001b[1;32m--> 292\u001b[0m     combin \u001b[38;5;241m=\u001b[39m np\u001b[38;5;241m.\u001b[39mfromiter(combin, dtype\u001b[38;5;241m=\u001b[39m\u001b[38;5;28mint\u001b[39m)\n\u001b[0;32m    293\u001b[0m     combin \u001b[38;5;241m=\u001b[39m combin\u001b[38;5;241m.\u001b[39mreshape(\u001b[38;5;241m-\u001b[39m\u001b[38;5;241m1\u001b[39m, next_max_itemset)\n\u001b[0;32m    295\u001b[0m     \u001b[38;5;28;01mif\u001b[39;00m combin\u001b[38;5;241m.\u001b[39msize \u001b[38;5;241m==\u001b[39m \u001b[38;5;241m0\u001b[39m:\n",
      "File \u001b[1;32m~\\anaconda3\\Lib\\site-packages\\mlxtend\\frequent_patterns\\apriori.py:49\u001b[0m, in \u001b[0;36mgenerate_new_combinations\u001b[1;34m(old_combinations)\u001b[0m\n\u001b[0;32m     47\u001b[0m mask \u001b[38;5;241m=\u001b[39m items_types_in_previous_step \u001b[38;5;241m>\u001b[39m max_combination\n\u001b[0;32m     48\u001b[0m valid_items \u001b[38;5;241m=\u001b[39m items_types_in_previous_step[mask]\n\u001b[1;32m---> 49\u001b[0m old_tuple \u001b[38;5;241m=\u001b[39m \u001b[38;5;28mtuple\u001b[39m(old_combination)\n\u001b[0;32m     50\u001b[0m \u001b[38;5;28;01mfor\u001b[39;00m item \u001b[38;5;129;01min\u001b[39;00m valid_items:\n\u001b[0;32m     51\u001b[0m     \u001b[38;5;28;01myield from\u001b[39;00m old_tuple\n",
      "\u001b[1;31mKeyboardInterrupt\u001b[0m: "
     ]
    }
   ],
   "source": [
    "itemsets = apriori(fp_df,min_support=0.01,use_colnames=True)\n",
    "\n",
    "\n",
    "rules = association_rules(itemsets, metric='confidence',min_threshold=0.6)\n",
    "print(rules[['antecedents','consequents','support','confidence','lift']])"
   ]
  },
  {
   "cell_type": "code",
   "execution_count": null,
   "metadata": {},
   "outputs": [],
   "source": []
  },
  {
   "cell_type": "code",
   "execution_count": null,
   "metadata": {},
   "outputs": [],
   "source": []
  },
  {
   "cell_type": "code",
   "execution_count": null,
   "metadata": {},
   "outputs": [],
   "source": []
  },
  {
   "cell_type": "code",
   "execution_count": null,
   "metadata": {},
   "outputs": [],
   "source": []
  },
  {
   "cell_type": "code",
   "execution_count": null,
   "metadata": {},
   "outputs": [],
   "source": []
  },
  {
   "cell_type": "code",
   "execution_count": null,
   "metadata": {},
   "outputs": [],
   "source": []
  },
  {
   "cell_type": "code",
   "execution_count": null,
   "metadata": {},
   "outputs": [],
   "source": []
  },
  {
   "cell_type": "code",
   "execution_count": null,
   "metadata": {},
   "outputs": [],
   "source": []
  }
 ],
 "metadata": {
  "kernelspec": {
   "display_name": "Python 3 (ipykernel)",
   "language": "python",
   "name": "python3"
  },
  "language_info": {
   "codemirror_mode": {
    "name": "ipython",
    "version": 3
   },
   "file_extension": ".py",
   "mimetype": "text/x-python",
   "name": "python",
   "nbconvert_exporter": "python",
   "pygments_lexer": "ipython3",
   "version": "3.11.7"
  }
 },
 "nbformat": 4,
 "nbformat_minor": 2
}
