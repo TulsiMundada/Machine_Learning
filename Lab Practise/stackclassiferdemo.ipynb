{
 "cells": [
  {
   "cell_type": "code",
   "execution_count": 62,
   "metadata": {},
   "outputs": [],
   "source": [
    "import pandas as pd\n",
    "import numpy as np\n",
    "import matplotlib.pyplot as plt\n",
    "from sklearn.metrics import log_loss,roc_auc_score,roc_curve,accuracy_score\n",
    "from sklearn.naive_bayes import BernoulliNB\n",
    "from sklearn.linear_model import LinearRegression ,LogisticRegression\n",
    "from sklearn.ensemble import RandomForestClassifier,StackingClassifier\n",
    "from sklearn.model_selection import StratifiedKFold,cross_val_score,KFold\n",
    "from sklearn.model_selection import train_test_split, GridSearchCV \n",
    "from sklearn.preprocessing import LabelEncoder\n",
    "from sklearn.tree import DecisionTreeClassifier\n",
    "from sklearn.svm import SVC\n",
    "from sklearn.preprocessing import PolynomialFeatures\n",
    "from sklearn.pipeline import Pipeline\n",
    "from sklearn.metrics import r2_score \n",
    "from sklearn.ensemble import GradientBoostingClassifier\n",
    "from xgboost import XGBRegressor\n",
    "from catboost import CatBoostClassifier, CatBoostRegressor\n",
    "import  os"
   ]
  },
  {
   "cell_type": "code",
   "execution_count": 63,
   "metadata": {},
   "outputs": [],
   "source": [
    "\n",
    "kyp = pd.read_csv(\"C:/Users\\dai\\Desktop\\Machine Learning/Cases/Cases/Kyphosis/Kyphosis.csv\")\n",
    "le = LabelEncoder()\n",
    "\n",
    "y = le.fit_transform(kyp['Kyphosis'])\n",
    "X = kyp.drop('Kyphosis',axis=1)\n",
    "X_train, X_test, y_train, y_test = train_test_split(X, y, \n",
    "                                   test_size = 0.3, \n",
    "                                   random_state=24,\n",
    "                                   stratify = y)\n",
    "\n"
   ]
  },
  {
   "cell_type": "code",
   "execution_count": 64,
   "metadata": {},
   "outputs": [
    {
     "name": "stdout",
     "output_type": "stream",
     "text": [
      "0.72\n",
      "2.001191391953967\n"
     ]
    }
   ],
   "source": [
    "lr=LogisticRegression()\n",
    "svm=SVC(kernel='linear', probability=True,random_state=24)\n",
    "dtc= DecisionTreeClassifier(random_state=24)\n",
    "rf= RandomForestClassifier(random_state=24)\n",
    "stack=StackingClassifier([('LR',lr),('SVM',svm),('TREE',dtc)],final_estimator=rf)\n",
    "\n",
    "stack.fit(X_train,y_train)\n",
    "y_pred = stack.predict(X_test)\n",
    "print(accuracy_score(y_test, y_pred))\n",
    "y_pred_proba = stack.predict_proba(X_test)\n",
    "print(log_loss(y_test, y_pred_proba))"
   ]
  },
  {
   "cell_type": "code",
   "execution_count": 65,
   "metadata": {},
   "outputs": [
    {
     "name": "stdout",
     "output_type": "stream",
     "text": [
      "0.76\n",
      "1.8078240247569928\n"
     ]
    }
   ],
   "source": [
    "####with pass through\n",
    "stack=StackingClassifier([('LR',lr),('SVM',svm),('TREE',dtc)],final_estimator=rf,passthrough=True)\n",
    "\n",
    "stack.fit(X_train,y_train)\n",
    "y_pred = stack.predict(X_test)\n",
    "print(accuracy_score(y_test, y_pred))\n",
    "y_pred_proba = stack.predict_proba(X_test)\n",
    "print(log_loss(y_test, y_pred_proba))"
   ]
  },
  {
   "cell_type": "code",
   "execution_count": 66,
   "metadata": {},
   "outputs": [],
   "source": [
    "#print(stack.get_params() )\n",
    "params= {'SVM__C':np.linspace(0.001, 3,5),\n",
    "        'LR__C':np.linspace(0.001, 3,5),\n",
    "        'TREE__max_depth':[None,2,3,4],\n",
    "        'final_estimator__max_features':[2,3],\n",
    "        'passthrough':[False,True]\n",
    "        }\n",
    "kfold = StratifiedKFold(n_splits = 5,shuffle=True,random_state=24)"
   ]
  },
  {
   "cell_type": "code",
   "execution_count": null,
   "metadata": {},
   "outputs": [],
   "source": [
    "gcv = GridSearchCV(stack, param_grid=params, cv=kfold ,scoring='neg_log_loss')\n",
    "gcv.fit(X, y)\n"
   ]
  },
  {
   "cell_type": "code",
   "execution_count": null,
   "metadata": {},
   "outputs": [],
   "source": [
    "print(gcv.best_params_)\n",
    "print(gcv.best_score_)"
   ]
  },
  {
   "cell_type": "code",
   "execution_count": null,
   "metadata": {},
   "outputs": [],
   "source": []
  }
 ],
 "metadata": {
  "kernelspec": {
   "display_name": "Python 3 (ipykernel)",
   "language": "python",
   "name": "python3"
  },
  "language_info": {
   "codemirror_mode": {
    "name": "ipython",
    "version": 3
   },
   "file_extension": ".py",
   "mimetype": "text/x-python",
   "name": "python",
   "nbconvert_exporter": "python",
   "pygments_lexer": "ipython3",
   "version": "3.11.7"
  }
 },
 "nbformat": 4,
 "nbformat_minor": 2
}
