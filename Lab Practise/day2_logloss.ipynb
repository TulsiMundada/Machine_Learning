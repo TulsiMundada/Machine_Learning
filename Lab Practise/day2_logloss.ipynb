{
 "cells": [
  {
   "cell_type": "code",
   "execution_count": 5,
   "id": "e3524819-b7db-43c7-b97e-4302b6e6acbd",
   "metadata": {},
   "outputs": [],
   "source": [
    "import pandas as pd\n",
    "from sklearn.metrics import log_loss,roc_auc_score,roc_curve,accuracy_score\n",
    "from sklearn.naive_bayes import BernoulliNB\n",
    "from sklearn.linear_model import LogisticRegression \n",
    "from sklearn.model_selection import StratifiedKFold,cross_val_score\n",
    "from sklearn.model_selection import train_test_split\n",
    "from sklearn.preprocessing import LabelEncoder\n"
   ]
  },
  {
   "cell_type": "code",
   "execution_count": 6,
   "id": "5ee79b84-af79-4adb-9293-28a4462a245b",
   "metadata": {},
   "outputs": [],
   "source": [
    "kyp = pd.read_csv(\"Cases/Kyphosis/Kyphosis.csv\")"
   ]
  },
  {
   "cell_type": "code",
   "execution_count": 7,
   "id": "85e00eff-f796-4ca7-91eb-3703dd58fb12",
   "metadata": {},
   "outputs": [],
   "source": [
    "le = LabelEncoder()\n",
    "y = le.fit_transform(kyp['Kyphosis'])\n",
    "X = kyp.drop('Kyphosis',axis=1)"
   ]
  },
  {
   "cell_type": "code",
   "execution_count": 9,
   "id": "539c4714-2466-449a-a8b4-061cadaba891",
   "metadata": {},
   "outputs": [],
   "source": [
    "lr=LogisticRegression()\n",
    "X_train, X_test, y_train, y_test = train_test_split(X, y, \n",
    "                                                    test_size = 0.3, \n",
    "                                                    random_state=24,\n",
    "                                                   stratify=y)"
   ]
  },
  {
   "cell_type": "code",
   "execution_count": 11,
   "id": "bc8e564d-cc7f-4a7e-b67a-e0c6caaa8b86",
   "metadata": {},
   "outputs": [
    {
     "name": "stdout",
     "output_type": "stream",
     "text": [
      "[[ 0.01203504  0.14784746 -0.29536472]]\n",
      "[0.12694123]\n",
      "0.76\n",
      "0.81\n",
      "0.4610519432006946\n"
     ]
    }
   ],
   "source": [
    "lr.fit(X_train, y_train)\n",
    "print(lr.coef_)\n",
    "print(lr.intercept_)\n",
    "\n",
    "y_pred = lr.predict(X_test)\n",
    "y_pred_proba = lr.predict_proba(X_test)\n",
    "print(accuracy_score(y_test,y_pred))\n",
    "print(roc_auc_score(y_test,y_pred_proba[:,1]))\n",
    "print(log_loss(y_test,y_pred_proba))"
   ]
  },
  {
   "cell_type": "code",
   "execution_count": 12,
   "id": "f18be299-8881-4627-ac47-2fbcf70f9e7e",
   "metadata": {},
   "outputs": [],
   "source": [
    "brupt = pd.read_csv(\"Cases/Bankruptcy/Bankruptcy.csv\")"
   ]
  },
  {
   "cell_type": "raw",
   "id": "4bea674e-163d-4fa2-97a3-d695606f054c",
   "metadata": {},
   "source": [
    "le = LabelEncoder()\n",
    "y = brupt['D']\n",
    "X = brupt.drop(['NO','D'],axis=1)\n",
    "lr=LogisticRegression()\n",
    "X_train, X_test, y_train, y_test = train_test_split(X, y, \n",
    "                                                    test_size = 0.3, \n",
    "                                                    random_state=24,\n",
    "                                                   stratify=y)\n",
    "lr.fit(X_train, y_train)\n",
    "print(lr.coef_)\n",
    "print(lr.intercept_)\n",
    "\n",
    "y_pred = lr.predict(X_test)\n",
    "y_pred_proba = lr.predict_proba(X_test)\n",
    "print(accuracy_score(y_test,y_pred))\n",
    "print(roc_auc_score(y_test,y_pred_proba[:,1]))\n",
    "print(log_loss(y_test,y_pred_proba))"
   ]
  },
  {
   "cell_type": "code",
   "execution_count": 31,
   "id": "7a65c5bd-5ff7-4c09-b274-07d8845b4775",
   "metadata": {},
   "outputs": [
    {
     "name": "stdout",
     "output_type": "stream",
     "text": [
      "[[-4.75313350e-02 -9.06015707e-01  1.19382208e+00 -2.00200844e+00\n",
      "   1.43684197e-01 -1.47591539e-01  1.43096648e-02 -1.34098268e-01\n",
      "   1.28651736e-01]\n",
      " [ 3.53680176e-02 -3.86748567e-01  4.86550033e-01  9.89471277e-01\n",
      "  -2.43414156e-02  8.71664034e-02  3.83171790e-01 -4.24478812e-01\n",
      "   1.07319673e-01]\n",
      " [-5.65983458e-03 -3.96912946e-01 -7.69559646e-01  9.27735717e-01\n",
      "   7.19871204e-03  5.04866081e-01  1.87756194e-01 -1.12788242e+00\n",
      "   1.21661238e-01]\n",
      " [ 8.22226315e-03  5.58896527e-01 -1.08239961e+00  1.42757757e+00\n",
      "  -9.57610085e-02 -4.40072858e-01 -6.19184567e-01  1.12497180e+00\n",
      "  -2.36932113e-01]\n",
      " [-4.57404324e-02  1.04477737e+00 -3.89856371e-01 -4.84021286e-01\n",
      "  -1.95449892e-01 -1.12636632e+00 -3.01753218e-02 -1.11978763e+00\n",
      "  -3.08156606e-01]\n",
      " [ 1.40088480e-03  3.70667663e-01  9.09034015e-01 -2.36155862e-01\n",
      "  -1.44019009e-01 -4.14147627e-01  7.52896520e-02 -2.80075634e-01\n",
      "   3.64962760e-02]]\n",
      "[-0.21994207  0.03322124 -0.00787641  2.21932656 -0.89327201  0.01662139]\n",
      "0.5846153846153846\n",
      "0.8173553364483513\n",
      "1.0343716335791842\n"
     ]
    },
    {
     "name": "stderr",
     "output_type": "stream",
     "text": [
      "C:\\Users\\dai\\anaconda3\\Lib\\site-packages\\sklearn\\linear_model\\_logistic.py:458: ConvergenceWarning: lbfgs failed to converge (status=1):\n",
      "STOP: TOTAL NO. of ITERATIONS REACHED LIMIT.\n",
      "\n",
      "Increase the number of iterations (max_iter) or scale the data as shown in:\n",
      "    https://scikit-learn.org/stable/modules/preprocessing.html\n",
      "Please also refer to the documentation for alternative solver options:\n",
      "    https://scikit-learn.org/stable/modules/linear_model.html#logistic-regression\n",
      "  n_iter_i = _check_optimize_result(\n"
     ]
    }
   ],
   "source": [
    "glass = pd.read_csv(\"Cases/Glass Identification/Glass.csv\")\n",
    "le = LabelEncoder()\n",
    "y = le.fit_transform(glass['Type'])\n",
    "X = glass.drop(['Type'],axis=1)\n",
    "lr=LogisticRegression(multi_class='ovr')\n",
    "X_train, X_test, y_train, y_test = train_test_split(X, y, \n",
    "                                                    test_size = 0.3, \n",
    "                                                    random_state=24,\n",
    "                                                   stratify=y)\n",
    "lr.fit(X_train, y_train)\n",
    "print(lr.coef_)\n",
    "print(lr.intercept_)\n",
    "\n",
    "y_pred = lr.predict(X_test)\n",
    "y_pred_proba = lr.predict_proba(X_test)\n",
    "print(accuracy_score(y_test,y_pred))\n",
    "print(roc_auc_score(y_test,y_pred_proba,multi_class='ovr'))\n",
    "print(log_loss(y_test,y_pred_proba))"
   ]
  },
  {
   "cell_type": "code",
   "execution_count": null,
   "id": "4e511b89-b5d4-4c5b-8503-3360ec324b04",
   "metadata": {},
   "outputs": [],
   "source": []
  }
 ],
 "metadata": {
  "kernelspec": {
   "display_name": "Python 3 (ipykernel)",
   "language": "python",
   "name": "python3"
  },
  "language_info": {
   "codemirror_mode": {
    "name": "ipython",
    "version": 3
   },
   "file_extension": ".py",
   "mimetype": "text/x-python",
   "name": "python",
   "nbconvert_exporter": "python",
   "pygments_lexer": "ipython3",
   "version": "3.11.7"
  }
 },
 "nbformat": 4,
 "nbformat_minor": 5
}
