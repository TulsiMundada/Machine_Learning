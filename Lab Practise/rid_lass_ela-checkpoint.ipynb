{
 "cells": [
  {
   "cell_type": "code",
   "execution_count": 29,
   "id": "b43a7258-fae2-48a3-b74d-b7b591a1d427",
   "metadata": {},
   "outputs": [
    {
     "name": "stdout",
     "output_type": "stream",
     "text": [
      "0.7442304381635699\n",
      "{'alpha': 0.001}\n",
      "0.7442304540793143\n"
     ]
    }
   ],
   "source": [
    "import pandas as pd\n",
    "from sklearn.model_selection import KFold\n",
    "from sklearn.model_selection import train_test_split , GridSearchCV\n",
    "from sklearn.model_selection import cross_val_score\n",
    "from sklearn.linear_model import Ridge , LinearRegression , ElasticNet , Lasso\n",
    "from sklearn.metrics import r2_score \n",
    "import numpy as np \n",
    "\n",
    "medical = pd.read_csv(\"Cases/Medical Cost Personal/insurance.csv\")\n",
    "dum_med = pd.get_dummies(medical , drop_first= True)\n",
    "X = dum_med.drop('charges', axis=1)\n",
    "y = dum_med['charges']\n",
    "\n",
    "lr = LinearRegression()\n",
    "Lasso = Lasso()\n",
    "ridge = Ridge()\n",
    "elastic = ElasticNet()\n",
    "\n",
    "########## K-FOLD #############\n",
    "kfold = KFold(n_splits=5, shuffle=True, random_state=24)\n",
    "\n",
    "results = cross_val_score(lr , X, y,\n",
    "                              cv=kfold)\n",
    "print(results.mean())\n",
    "##########ridge\n",
    "params = {'alpha':np.linspace(0.001, 100,50)}\n",
    "gcv = GridSearchCV(ridge, param_grid=params,\n",
    "                   cv=kfold)\n",
    "gcv.fit(X, y)\n",
    "#pd_cv = pd.DataFrame( gcv.cv_results_)\n",
    "print(gcv.best_params_)\n",
    "print(gcv.best_score_)\n"
   ]
  },
  {
   "cell_type": "code",
   "execution_count": 27,
   "id": "823e6f42-57a6-49c9-bedd-5dac5108abda",
   "metadata": {},
   "outputs": [
    {
     "name": "stdout",
     "output_type": "stream",
     "text": [
      "0.766542579868441\n",
      "{'alpha': 38.776122448979585}\n",
      "0.7445319572206965\n"
     ]
    }
   ],
   "source": [
    "\n",
    "Lasso.fit(X_train, y_train)\n",
    "y_pred = Lasso.predict(X_test)\n",
    "print(r2_score(y_test, y_pred))\n",
    "\n",
    "from sklearn.model_selection import GridSearchCV\n",
    "params = {'alpha':np.linspace(0.001, 100,50)}\n",
    "gcv = GridSearchCV(Lasso, param_grid=params,\n",
    "                   cv=kfold , scoring = 'r2')\n",
    "gcv.fit(X, y)\n",
    "print(gcv.best_params_)\n",
    "print(gcv.best_score_)\n"
   ]
  },
  {
   "cell_type": "code",
   "execution_count": 28,
   "id": "16cfc278-60a5-4bf7-8717-db080617faea",
   "metadata": {},
   "outputs": [
    {
     "name": "stdout",
     "output_type": "stream",
     "text": [
      "{'alpha': 25.00075, 'l1_ratio': 1.0}\n",
      "0.7444779079832952\n"
     ]
    }
   ],
   "source": [
    "elastic = ElasticNet()\n",
    "\n",
    "params = {'alpha' : np.linspace(0.001, 100,5), 'l1_ratio' : np.linspace(0.001,1,4)}\n",
    "gcv = GridSearchCV(elastic, param_grid=params,\n",
    "                   cv=kfold , scoring = 'r2')\n",
    "gcv.fit(X, y)\n",
    "#pd_cv = pd.DataFrame( gcv.cv_results_)\n",
    "print(gcv.best_params_)\n",
    "print(gcv.best_score_)"
   ]
  },
  {
   "cell_type": "code",
   "execution_count": null,
   "id": "a0806405-b57a-4bf1-bacd-9b38db1da782",
   "metadata": {},
   "outputs": [],
   "source": []
  }
 ],
 "metadata": {
  "kernelspec": {
   "display_name": "Python 3 (ipykernel)",
   "language": "python",
   "name": "python3"
  },
  "language_info": {
   "codemirror_mode": {
    "name": "ipython",
    "version": 3
   },
   "file_extension": ".py",
   "mimetype": "text/x-python",
   "name": "python",
   "nbconvert_exporter": "python",
   "pygments_lexer": "ipython3",
   "version": "3.11.7"
  }
 },
 "nbformat": 4,
 "nbformat_minor": 5
}
