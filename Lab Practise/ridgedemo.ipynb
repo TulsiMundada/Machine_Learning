{
 "cells": [
  {
   "cell_type": "code",
   "execution_count": 2,
   "id": "affa2836-ee0c-465d-896c-c0e208995320",
   "metadata": {},
   "outputs": [
    {
     "name": "stdout",
     "output_type": "stream",
     "text": [
      "0.577175270349799\n",
      "Best alpha = 43.59030769230769\n",
      "{'alpha': 43.59030769230769}\n",
      "0.6066066097409973\n"
     ]
    }
   ],
   "source": [
    "import pandas as pd\n",
    "from sklearn.model_selection import KFold\n",
    "from sklearn.model_selection import train_test_split\n",
    "from sklearn.model_selection import cross_val_score\n",
    "from sklearn.linear_model import Ridge\n",
    "from sklearn.metrics import r2_score \n",
    "import numpy as np \n",
    "\n",
    "conc = pd.read_csv(\"Cases\\Concrete Strength\\Concrete_Data.csv\")\n",
    "X = conc.drop('Strength', axis=1)\n",
    "y = conc['Strength']\n",
    "\n",
    "X_train, X_test, y_train, y_test = train_test_split(X, y, \n",
    "                                                    test_size = 0.3, \n",
    "                                                    random_state=24)\n",
    "ridge = Ridge(alpha=0.02)\n",
    "ridge.fit(X_train, y_train)\n",
    "y_pred = ridge.predict(X_test)\n",
    "print(r2_score(y_test, y_pred))\n",
    "\n",
    "########## K-FOLD #############\n",
    "kfold = KFold(n_splits=5, shuffle=True, \n",
    "              random_state=24)\n",
    "lambdas = np.linspace(0.001, 100,40)\n",
    "scores = []\n",
    "for i in lambdas:\n",
    "    ridge = Ridge(alpha=i)\n",
    "    results = cross_val_score(ridge, X, y,\n",
    "                              cv=kfold)\n",
    "    scores.append(results.mean())\n",
    "\n",
    "i_max = np.argmax(scores)\n",
    "print(\"Best alpha =\", lambdas[i_max])\n",
    "############################\n",
    "\n",
    "from sklearn.model_selection import GridSearchCV\n",
    "params = {'alpha':np.linspace(0.001, 100,40)}\n",
    "gcv = GridSearchCV(ridge, param_grid=params,\n",
    "                   cv=kfold)\n",
    "gcv.fit(X, y)\n",
    "print(gcv.best_params_)\n",
    "print(gcv.best_score_)"
   ]
  },
  {
   "cell_type": "code",
   "execution_count": 12,
   "id": "047b78c3-b681-492a-a8af-63b11529c7f3",
   "metadata": {},
   "outputs": [
    {
     "name": "stdout",
     "output_type": "stream",
     "text": [
      "0.576333587787164\n",
      "{'alpha': 0.001}\n",
      "0.6066064857714588\n"
     ]
    }
   ],
   "source": [
    "############Lasso Demo\n",
    "import pandas as pd\n",
    "from sklearn.model_selection import KFold\n",
    "from sklearn.model_selection import train_test_split\n",
    "from sklearn.model_selection import cross_val_score\n",
    "from sklearn.linear_model import Lasso, ElasticNet\n",
    "from sklearn.metrics import r2_score \n",
    "import numpy as np \n",
    "\n",
    "conc = pd.read_csv(\"Cases\\Concrete Strength\\Concrete_Data.csv\")\n",
    "X = conc.drop('Strength', axis=1)\n",
    "y = conc['Strength']\n",
    "\n",
    "X_train, X_test, y_train, y_test = train_test_split(X, y, \n",
    "                                                    test_size = 0.3, \n",
    "                                                    random_state=24)\n",
    "Lasso = Lasso()\n",
    "Lasso.fit(X_train, y_train)\n",
    "y_pred = Lasso.predict(X_test)\n",
    "print(r2_score(y_test, y_pred))\n",
    "\n",
    "############################\n",
    "kfold = KFold(n_splits=5, shuffle=True, \n",
    "              random_state=24)\n",
    "\n",
    "from sklearn.model_selection import GridSearchCV\n",
    "params = {'alpha':np.linspace(0.001, 100,40)}\n",
    "gcv = GridSearchCV(Lasso, param_grid=params,\n",
    "                   cv=kfold , scoring = 'r2')\n",
    "gcv.fit(X, y)\n",
    "print(gcv.best_params_)\n",
    "print(gcv.best_score_)\n"
   ]
  },
  {
   "cell_type": "code",
   "execution_count": 11,
   "id": "19fdf80d-1f6a-4fc4-acfd-dcf00b33d13f",
   "metadata": {},
   "outputs": [
    {
     "name": "stdout",
     "output_type": "stream",
     "text": [
      "{'alpha': 1.0, 'copy_X': True, 'fit_intercept': True, 'l1_ratio': 0.5, 'max_iter': 1000, 'positive': False, 'precompute': False, 'random_state': None, 'selection': 'cyclic', 'tol': 0.0001, 'warm_start': False}\n",
      "{'alpha': 0.001, 'l1_ratio': 0.001}\n",
      "0.6066065609610953\n"
     ]
    }
   ],
   "source": [
    "#use elastic net  for better when u r confused betwn lasso n ridge\n",
    "elastic = ElasticNet()\n",
    "print(elastic.get_params())\n",
    "params = {'alpha' : np.linspace(0.001,50,5), 'l1_ratio' : np.linspace(0.001,1,10)}\n",
    "gcv = GridSearchCV(elastic, param_grid=params,\n",
    "                   cv=kfold , scoring = 'r2')\n",
    "gcv.fit(X, y)\n",
    "print(gcv.best_params_)\n",
    "print(gcv.best_score_)"
   ]
  },
  {
   "cell_type": "code",
   "execution_count": 14,
   "id": "332c0c15-a7c6-4118-b5d3-610ec7d3902c",
   "metadata": {},
   "outputs": [
    {
     "data": {
      "text/plain": [
       "array([ 0.11910483,  0.10294333,  0.08763564, -0.16031911,  0.24967948,\n",
       "        0.01594138,  0.01870292,  0.11397284])"
      ]
     },
     "execution_count": 14,
     "metadata": {},
     "output_type": "execute_result"
    }
   ],
   "source": [
    "elastic.fit(X,y)\n",
    "elastic.coef_"
   ]
  },
  {
   "cell_type": "code",
   "execution_count": null,
   "id": "5a3bf624-9bad-45a0-b769-60c0113f5bdb",
   "metadata": {},
   "outputs": [],
   "source": []
  }
 ],
 "metadata": {
  "kernelspec": {
   "display_name": "Python 3 (ipykernel)",
   "language": "python",
   "name": "python3"
  },
  "language_info": {
   "codemirror_mode": {
    "name": "ipython",
    "version": 3
   },
   "file_extension": ".py",
   "mimetype": "text/x-python",
   "name": "python",
   "nbconvert_exporter": "python",
   "pygments_lexer": "ipython3",
   "version": "3.11.7"
  }
 },
 "nbformat": 4,
 "nbformat_minor": 5
}
