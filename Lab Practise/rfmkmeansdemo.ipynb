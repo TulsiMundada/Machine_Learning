{
 "cells": [
  {
   "cell_type": "code",
   "execution_count": null,
   "metadata": {},
   "outputs": [],
   "source": [
    "from sklearn.cluster import KMeans\n",
    "import numpy as np\n",
    "import pandas as pd\n",
    "from sklearn.preprocessing import StandardScaler \n",
    "from sklearn.decomposition import PCA\n",
    "import matplotlib.pyplot as plt\n",
    "import seaborn as sns"
   ]
  },
  {
   "cell_type": "code",
   "execution_count": 25,
   "metadata": {},
   "outputs": [
    {
     "name": "stdout",
     "output_type": "stream",
     "text": [
      "68988.486688459\n"
     ]
    }
   ],
   "source": [
    "from sklearn.cluster import AgglomerativeClustering\n",
    "from sklearn.metrics import silhouette_score\n",
    "\n",
    "rfm = pd.read_csv(r\"C:/Users\\dai\\Desktop\\Machine Learning\\Cases\\Cases\\Recency Frequency Monetary\\rfm_data_customer.csv\",index_col=0)\n",
    "rfm.drop('most_recent_visit',axis=1,inplace=True)\n",
    "scaler = StandardScaler().set_output(transform='pandas')\n",
    "scaler.fit(rfm)\n",
    "rfm_scaled = scaler.transform(rfm)\n",
    "\n",
    "pca = PCA().set_output(transform ='pandas')\n",
    "principalComponents = pca.fit_transform(rfm)\n",
    "clust = KMeans(n_clusters=2,random_state=24)\n",
    "clust.fit(rfm_scaled)\n",
    "\n",
    "print(clust.inertia_)"
   ]
  },
  {
   "cell_type": "code",
   "execution_count": 27,
   "metadata": {},
   "outputs": [
    {
     "name": "stdout",
     "output_type": "stream",
     "text": [
      "0.3229983236688364\n"
     ]
    }
   ],
   "source": [
    "pca = PCA().set_output(transform ='pandas')\n",
    "principalComponents = pca.fit_transform(rfm)\n",
    "\n",
    "\n",
    "print(silhouette_score(rfm_scaled, clust.labels_))\n",
    "\n",
    "Ks = [2,3,4,5,6]\n",
    "scores = []\n",
    "for i in Ks:\n",
    "    clust = KMeans(n_clusters=i,random_state=24)\n",
    "    clust.fit(rfm_scaled)\n",
    "    scores.append(silhouette_score(rfm_scaled, clust.labels_))\n",
    "#plt.scatter(Ks , scores, c= 'red')\n",
    "#plt.plot(Ks , scores)\n",
    "#plt.title(\"Scree Plot\")\n",
    "#plt.xlabel(\"Clusters\")\n",
    "#plt.ylabel('WSS')\n",
    "#plt.show()"
   ]
  },
  {
   "cell_type": "code",
   "execution_count": 28,
   "metadata": {},
   "outputs": [
    {
     "name": "stdout",
     "output_type": "stream",
     "text": [
      "Best no. of clusters: 3\n",
      "Best Score: 0.37102897041720206\n",
      "[1 0 1 ... 1 1 0]\n",
      "           revenue  number_of_orders  recency_days\n",
      "Clust                                             \n",
      "0      1281.119459         12.909267    133.255123\n",
      "1       749.292247          8.227773    136.139784\n",
      "2       692.414498          7.351090    416.697185\n",
      "Clust\n",
      "1    18457\n",
      "0    14934\n",
      "2     6608\n",
      "Name: count, dtype: int64\n"
     ]
    }
   ],
   "source": [
    "i_max = np.argmax(scores)\n",
    "print(\"Best no. of clusters:\", Ks[i_max])\n",
    "print(\"Best Score:\", scores[i_max])\n",
    "\n",
    "clust = KMeans(n_clusters=Ks[i_max],random_state=24)\n",
    "clust.fit(rfm_scaled)\n",
    "\n",
    "print(clust.labels_)\n",
    "\n",
    "df_clust = rfm.copy()\n",
    "df_clust['Clust'] = clust.labels_\n",
    "df_clust['Clust'] = df_clust['Clust'].astype(str)\n",
    "print(df_clust.groupby('Clust').mean())\n",
    "print(df_clust['Clust'].value_counts())"
   ]
  },
  {
   "cell_type": "code",
   "execution_count": 34,
   "metadata": {},
   "outputs": [
    {
     "name": "stdout",
     "output_type": "stream",
     "text": [
      "Best no. of clusters: 3\n",
      "Best Score: 0.37061959467764677\n",
      "[1 0 1 ... 1 1 0]\n"
     ]
    }
   ],
   "source": [
    "Ks = [2,3,4,5]\n",
    "scores = []\n",
    "for i in Ks:\n",
    "    clust = KMeans(n_clusters=i,random_state=24,init='random')\n",
    "    clust.fit(rfm_scaled)\n",
    "    scores.append(silhouette_score(rfm_scaled, clust.labels_))\n",
    "\n",
    "i_max = np.argmax(scores)\n",
    "print(\"Best no. of clusters:\", Ks[i_max])\n",
    "print(\"Best Score:\", scores[i_max])\n",
    "\n",
    "clust = KMeans(n_clusters=Ks[i_max] , random_state=24)\n",
    "clust.fit(rfm_scaled)\n",
    "\n",
    "print(clust.labels_)\n",
    "\n"
   ]
  },
  {
   "cell_type": "code",
   "execution_count": 31,
   "metadata": {},
   "outputs": [],
   "source": [
    "\n",
    "df_clust = rfm.copy()\n",
    "df_clust['Clust'] = clust.labels_\n",
    "df_clust['Clust'] = df_clust['Clust'].astype(str)\n",
    "#print(df_clust.groupby('Clust').mean())"
   ]
  },
  {
   "cell_type": "code",
   "execution_count": 33,
   "metadata": {},
   "outputs": [
    {
     "data": {
      "text/html": [
       "<div>\n",
       "<style scoped>\n",
       "    .dataframe tbody tr th:only-of-type {\n",
       "        vertical-align: middle;\n",
       "    }\n",
       "\n",
       "    .dataframe tbody tr th {\n",
       "        vertical-align: top;\n",
       "    }\n",
       "\n",
       "    .dataframe thead th {\n",
       "        text-align: right;\n",
       "    }\n",
       "</style>\n",
       "<table border=\"1\" class=\"dataframe\">\n",
       "  <thead>\n",
       "    <tr style=\"text-align: right;\">\n",
       "      <th></th>\n",
       "      <th></th>\n",
       "      <th>revenue</th>\n",
       "      <th>number_of_orders</th>\n",
       "      <th>recency_days</th>\n",
       "    </tr>\n",
       "    <tr>\n",
       "      <th>Clust</th>\n",
       "      <th></th>\n",
       "      <th></th>\n",
       "      <th></th>\n",
       "      <th></th>\n",
       "    </tr>\n",
       "  </thead>\n",
       "  <tbody>\n",
       "    <tr>\n",
       "      <th rowspan=\"3\" valign=\"top\">0</th>\n",
       "      <th>revenue</th>\n",
       "      <td>1.000000</td>\n",
       "      <td>0.608137</td>\n",
       "      <td>-0.010057</td>\n",
       "    </tr>\n",
       "    <tr>\n",
       "      <th>number_of_orders</th>\n",
       "      <td>0.608137</td>\n",
       "      <td>1.000000</td>\n",
       "      <td>-0.057150</td>\n",
       "    </tr>\n",
       "    <tr>\n",
       "      <th>recency_days</th>\n",
       "      <td>-0.010057</td>\n",
       "      <td>-0.057150</td>\n",
       "      <td>1.000000</td>\n",
       "    </tr>\n",
       "    <tr>\n",
       "      <th rowspan=\"3\" valign=\"top\">1</th>\n",
       "      <th>revenue</th>\n",
       "      <td>1.000000</td>\n",
       "      <td>0.633329</td>\n",
       "      <td>-0.011593</td>\n",
       "    </tr>\n",
       "    <tr>\n",
       "      <th>number_of_orders</th>\n",
       "      <td>0.633329</td>\n",
       "      <td>1.000000</td>\n",
       "      <td>-0.047350</td>\n",
       "    </tr>\n",
       "    <tr>\n",
       "      <th>recency_days</th>\n",
       "      <td>-0.011593</td>\n",
       "      <td>-0.047350</td>\n",
       "      <td>1.000000</td>\n",
       "    </tr>\n",
       "    <tr>\n",
       "      <th rowspan=\"3\" valign=\"top\">2</th>\n",
       "      <th>revenue</th>\n",
       "      <td>1.000000</td>\n",
       "      <td>0.799252</td>\n",
       "      <td>-0.100518</td>\n",
       "    </tr>\n",
       "    <tr>\n",
       "      <th>number_of_orders</th>\n",
       "      <td>0.799252</td>\n",
       "      <td>1.000000</td>\n",
       "      <td>-0.158976</td>\n",
       "    </tr>\n",
       "    <tr>\n",
       "      <th>recency_days</th>\n",
       "      <td>-0.100518</td>\n",
       "      <td>-0.158976</td>\n",
       "      <td>1.000000</td>\n",
       "    </tr>\n",
       "  </tbody>\n",
       "</table>\n",
       "</div>"
      ],
      "text/plain": [
       "                         revenue  number_of_orders  recency_days\n",
       "Clust                                                           \n",
       "0     revenue           1.000000          0.608137     -0.010057\n",
       "      number_of_orders  0.608137          1.000000     -0.057150\n",
       "      recency_days     -0.010057         -0.057150      1.000000\n",
       "1     revenue           1.000000          0.633329     -0.011593\n",
       "      number_of_orders  0.633329          1.000000     -0.047350\n",
       "      recency_days     -0.011593         -0.047350      1.000000\n",
       "2     revenue           1.000000          0.799252     -0.100518\n",
       "      number_of_orders  0.799252          1.000000     -0.158976\n",
       "      recency_days     -0.100518         -0.158976      1.000000"
      ]
     },
     "execution_count": 33,
     "metadata": {},
     "output_type": "execute_result"
    }
   ],
   "source": [
    "clust_corr = df_clust.groupby('Clust').corr()\n",
    "clust_corr"
   ]
  },
  {
   "cell_type": "code",
   "execution_count": null,
   "metadata": {},
   "outputs": [],
   "source": []
  }
 ],
 "metadata": {
  "kernelspec": {
   "display_name": "Python 3 (ipykernel)",
   "language": "python",
   "name": "python3"
  }
 },
 "nbformat": 4,
 "nbformat_minor": 2
}
