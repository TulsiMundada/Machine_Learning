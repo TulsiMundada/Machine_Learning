{
 "cells": [
  {
   "cell_type": "code",
   "execution_count": 55,
   "metadata": {},
   "outputs": [],
   "source": [
    "\n",
    "import matplotlib.pyplot as plt\n",
    "import pandas as pd\n",
    "from mlxtend.frequent_patterns import apriori\n",
    "from mlxtend.frequent_patterns import association_rules \n",
    "from mlxtend.preprocessing import TransactionEncoder\n",
    "import os\n"
   ]
  },
  {
   "cell_type": "code",
   "execution_count": 61,
   "metadata": {},
   "outputs": [
    {
     "name": "stdout",
     "output_type": "stream",
     "text": [
      "[[ True  True  True  True  True  True  True  True  True  True  True  True\n",
      "   True  True  True  True  True  True  True  True  True  True  True  True\n",
      "   True]]\n"
     ]
    },
    {
     "data": {
      "text/plain": [
       "<Figure size 640x480 with 1 Axes>"
      ]
     },
     "metadata": {},
     "output_type": "display_data"
    }
   ],
   "source": [
    "\n",
    "groceries = []\n",
    "with open(r\"C:/Users\\dai\\Desktop\\Machine Learning\\Datasets\\DataSetA.csv\",'r') as f:groceries = f.read()\n",
    "groceries = groceries.split(\"/n\")\n",
    "groceries_list = []\n",
    "for i in groceries:\n",
    "    groceries_list.append(i.split(\",\"))\n",
    "    \n",
    "te = TransactionEncoder()\n",
    "te_ary = te.fit(groceries_list).transform(groceries_list)\n",
    "print(te_ary)\n",
    "fp_df = pd.DataFrame(te_ary,columns=te.columns_)\n",
    "fp_df\n",
    "itemFrequency = fp_df.sum(axis=0) / len(fp_df)\n",
    "itemFrequency = itemFrequency.sort_values(ascending=False)\n",
    "\n",
    "ax = itemFrequency[:10].plot.barh(color='blue')\n",
    "plt.ylabel(\"Item Frequency (relative) of Top 10\")\n",
    "plt.xlabel(\"heha\")\n",
    "plt.show()"
   ]
  },
  {
   "cell_type": "code",
   "execution_count": 58,
   "metadata": {},
   "outputs": [
    {
     "ename": "KeyboardInterrupt",
     "evalue": "",
     "output_type": "error",
     "traceback": [
      "\u001b[1;31m---------------------------------------------------------------------------\u001b[0m",
      "\u001b[1;31mKeyboardInterrupt\u001b[0m                         Traceback (most recent call last)",
      "Cell \u001b[1;32mIn[58], line 1\u001b[0m\n\u001b[1;32m----> 1\u001b[0m itemsets \u001b[38;5;241m=\u001b[39m apriori(fp_df , min_support\u001b[38;5;241m=\u001b[39m\u001b[38;5;241m0.2\u001b[39m, use_colnames\u001b[38;5;241m=\u001b[39m\u001b[38;5;28;01mTrue\u001b[39;00m)\n\u001b[0;32m      3\u001b[0m rules \u001b[38;5;241m=\u001b[39m association_rules(itemsets, metric\u001b[38;5;241m=\u001b[39m\u001b[38;5;124m'\u001b[39m\u001b[38;5;124mconfidence\u001b[39m\u001b[38;5;124m'\u001b[39m,min_threshold\u001b[38;5;241m=\u001b[39m\u001b[38;5;241m0.6\u001b[39m)\n\u001b[0;32m      4\u001b[0m \u001b[38;5;28mprint\u001b[39m(rules[[\u001b[38;5;124m'\u001b[39m\u001b[38;5;124mantecedents\u001b[39m\u001b[38;5;124m'\u001b[39m,\u001b[38;5;124m'\u001b[39m\u001b[38;5;124mconsequents\u001b[39m\u001b[38;5;124m'\u001b[39m,\u001b[38;5;124m'\u001b[39m\u001b[38;5;124msupport\u001b[39m\u001b[38;5;124m'\u001b[39m,\u001b[38;5;124m'\u001b[39m\u001b[38;5;124mconfidence\u001b[39m\u001b[38;5;124m'\u001b[39m,\u001b[38;5;124m'\u001b[39m\u001b[38;5;124mlift\u001b[39m\u001b[38;5;124m'\u001b[39m]])\n",
      "File \u001b[1;32m~\\anaconda3\\Lib\\site-packages\\mlxtend\\frequent_patterns\\apriori.py:292\u001b[0m, in \u001b[0;36mapriori\u001b[1;34m(df, min_support, use_colnames, max_len, verbose, low_memory)\u001b[0m\n\u001b[0;32m    290\u001b[0m \u001b[38;5;28;01melse\u001b[39;00m:\n\u001b[0;32m    291\u001b[0m     combin \u001b[38;5;241m=\u001b[39m generate_new_combinations(itemset_dict[max_itemset])\n\u001b[1;32m--> 292\u001b[0m     combin \u001b[38;5;241m=\u001b[39m np\u001b[38;5;241m.\u001b[39mfromiter(combin, dtype\u001b[38;5;241m=\u001b[39m\u001b[38;5;28mint\u001b[39m)\n\u001b[0;32m    293\u001b[0m     combin \u001b[38;5;241m=\u001b[39m combin\u001b[38;5;241m.\u001b[39mreshape(\u001b[38;5;241m-\u001b[39m\u001b[38;5;241m1\u001b[39m, next_max_itemset)\n\u001b[0;32m    295\u001b[0m     \u001b[38;5;28;01mif\u001b[39;00m combin\u001b[38;5;241m.\u001b[39msize \u001b[38;5;241m==\u001b[39m \u001b[38;5;241m0\u001b[39m:\n",
      "File \u001b[1;32m~\\anaconda3\\Lib\\site-packages\\mlxtend\\frequent_patterns\\apriori.py:52\u001b[0m, in \u001b[0;36mgenerate_new_combinations\u001b[1;34m(old_combinations)\u001b[0m\n\u001b[0;32m     50\u001b[0m \u001b[38;5;28;01mfor\u001b[39;00m item \u001b[38;5;129;01min\u001b[39;00m valid_items:\n\u001b[0;32m     51\u001b[0m     \u001b[38;5;28;01myield from\u001b[39;00m old_tuple\n\u001b[1;32m---> 52\u001b[0m     \u001b[38;5;28;01myield\u001b[39;00m item\n",
      "\u001b[1;31mKeyboardInterrupt\u001b[0m: "
     ]
    }
   ],
   "source": [
    "\n",
    "itemsets = apriori(fp_df , min_support=0.2, use_colnames=True)\n",
    "\n",
    "rules = association_rules(itemsets, metric='confidence',min_threshold=0.6)\n",
    "print(rules[['antecedents','consequents','support','confidence','lift']])\n",
    "\n",
    "rules.sort_values(by=['lift'],ascending=False).head(6)\n",
    "\n",
    "rules_df = rules[rules['lift']>1]\n",
    "rules_df = rules.sort_values(by=['lift','confidence'],ascending=False)\n",
    "\n",
    "print(rules_df[['antecedents','consequents','support','confidence','lift']])"
   ]
  },
  {
   "cell_type": "code",
   "execution_count": null,
   "metadata": {},
   "outputs": [],
   "source": []
  }
 ],
 "metadata": {
  "kernelspec": {
   "display_name": "Python 3 (ipykernel)",
   "language": "python",
   "name": "python3"
  },
  "language_info": {
   "codemirror_mode": {
    "name": "ipython",
    "version": 3
   },
   "file_extension": ".py",
   "mimetype": "text/x-python",
   "name": "python",
   "nbconvert_exporter": "python",
   "pygments_lexer": "ipython3",
   "version": "3.11.7"
  }
 },
 "nbformat": 4,
 "nbformat_minor": 2
}
