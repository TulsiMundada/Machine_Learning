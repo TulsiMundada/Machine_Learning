{
 "cells": [
  {
   "cell_type": "code",
   "execution_count": 39,
   "metadata": {},
   "outputs": [
    {
     "name": "stderr",
     "output_type": "stream",
     "text": [
      "C:\\Users\\dai\\anaconda3\\Lib\\site-packages\\gradio\\routes.py:1124: DeprecationWarning: \n",
      "        on_event is deprecated, use lifespan event handlers instead.\n",
      "\n",
      "        Read more about it in the\n",
      "        [FastAPI docs for Lifespan Events](https://fastapi.tiangolo.com/advanced/events/).\n",
      "        \n",
      "  @app.on_event(\"startup\")\n",
      "C:\\Users\\dai\\anaconda3\\Lib\\site-packages\\fastapi\\applications.py:4495: DeprecationWarning: \n",
      "        on_event is deprecated, use lifespan event handlers instead.\n",
      "\n",
      "        Read more about it in the\n",
      "        [FastAPI docs for Lifespan Events](https://fastapi.tiangolo.com/advanced/events/).\n",
      "        \n",
      "  return self.router.on_event(event_type)\n",
      "C:\\Users\\dai\\anaconda3\\Lib\\site-packages\\gradio\\routes.py:1124: DeprecationWarning: \n",
      "        on_event is deprecated, use lifespan event handlers instead.\n",
      "\n",
      "        Read more about it in the\n",
      "        [FastAPI docs for Lifespan Events](https://fastapi.tiangolo.com/advanced/events/).\n",
      "        \n",
      "  @app.on_event(\"startup\")\n",
      "C:\\Users\\dai\\anaconda3\\Lib\\site-packages\\fastapi\\applications.py:4495: DeprecationWarning: \n",
      "        on_event is deprecated, use lifespan event handlers instead.\n",
      "\n",
      "        Read more about it in the\n",
      "        [FastAPI docs for Lifespan Events](https://fastapi.tiangolo.com/advanced/events/).\n",
      "        \n",
      "  return self.router.on_event(event_type)\n",
      "C:\\Users\\dai\\anaconda3\\Lib\\site-packages\\gradio\\routes.py:1124: DeprecationWarning: \n",
      "        on_event is deprecated, use lifespan event handlers instead.\n",
      "\n",
      "        Read more about it in the\n",
      "        [FastAPI docs for Lifespan Events](https://fastapi.tiangolo.com/advanced/events/).\n",
      "        \n",
      "  @app.on_event(\"startup\")\n",
      "C:\\Users\\dai\\anaconda3\\Lib\\site-packages\\fastapi\\applications.py:4495: DeprecationWarning: \n",
      "        on_event is deprecated, use lifespan event handlers instead.\n",
      "\n",
      "        Read more about it in the\n",
      "        [FastAPI docs for Lifespan Events](https://fastapi.tiangolo.com/advanced/events/).\n",
      "        \n",
      "  return self.router.on_event(event_type)\n"
     ]
    },
    {
     "name": "stdout",
     "output_type": "stream",
     "text": [
      "Running on local URL:  http://127.0.0.1:7863\n",
      "\n",
      "To create a public link, set `share=True` in `launch()`.\n"
     ]
    },
    {
     "data": {
      "text/html": [
       "<div><iframe src=\"http://127.0.0.1:7863/\" width=\"100%\" height=\"500\" allow=\"autoplay; camera; microphone; clipboard-read; clipboard-write;\" frameborder=\"0\" allowfullscreen></iframe></div>"
      ],
      "text/plain": [
       "<IPython.core.display.HTML object>"
      ]
     },
     "metadata": {},
     "output_type": "display_data"
    }
   ],
   "source": [
    "import gradio as gr \n",
    "import pandas as pd\n",
    "import matplotlib.pylab as plt\n",
    "from mlxtend.frequent_patterns import apriori\n",
    "from mlxtend.frequent_patterns import association_rules\n",
    "\n",
    "fp_df = pd.read_csv(r'C:/Users/dai/Desktop/Machine Learning/Datasets/Cosmetics.csv',\n",
    "                    index_col=0)\n",
    "fp_df = fp_df.astype(bool)\n",
    "\n",
    "def gen_rules(min_sup, min_conf):\n",
    "    itemsets = apriori(fp_df, min_support=min_sup, use_colnames=True)\n",
    "    rules = association_rules(itemsets, metric='confidence', min_threshold=min_conf)\n",
    "    rules = rules[['antecedents', 'consequents', 'support', 'confidence', 'lift']]\n",
    "    rules = rules[rules['lift']>1]\n",
    "    rules['antecedents'] = [list(x) for x in rules['antecedents'].values]\n",
    "    rules['consequents'] = [list(x) for x in rules['consequents'].values]\n",
    "    return rules.sort_values(by='lift', ascending=False)\n",
    "\n",
    "demo = gr.Interface(gen_rules, \n",
    "                    inputs= [gr.Slider(value=0.01, step=0.01,\n",
    "                                   label=\"Minimum Support\",\n",
    "                                   minimum=0.0001, maximum=1),\n",
    "                             gr.Slider(value=0.01, step=0.01,\n",
    "                                   label=\"Minimum Confidence\",    \n",
    "                                   minimum=0.0001, maximum=1)], \n",
    "                    outputs='dataframe')\n",
    "\n",
    "if __name__ == \"__main__\":\n",
    "    demo.launch()"
   ]
  },
  {
   "cell_type": "code",
   "execution_count": 4,
   "metadata": {},
   "outputs": [
    {
     "data": {
      "text/plain": [
       "'4.29.0'"
      ]
     },
     "execution_count": 4,
     "metadata": {},
     "output_type": "execute_result"
    },
    {
     "name": "stderr",
     "output_type": "stream",
     "text": [
      "ERROR:    Exception in ASGI application\n",
      "Traceback (most recent call last):\n",
      "  File \"C:\\Users\\dai\\anaconda3\\Lib\\site-packages\\starlette\\responses.py\", line 265, in __call__\n",
      "    await wrap(partial(self.listen_for_disconnect, receive))\n",
      "  File \"C:\\Users\\dai\\anaconda3\\Lib\\site-packages\\starlette\\responses.py\", line 261, in wrap\n",
      "    await func()\n",
      "  File \"C:\\Users\\dai\\anaconda3\\Lib\\site-packages\\starlette\\responses.py\", line 238, in listen_for_disconnect\n",
      "    message = await receive()\n",
      "              ^^^^^^^^^^^^^^^\n",
      "  File \"C:\\Users\\dai\\anaconda3\\Lib\\site-packages\\uvicorn\\protocols\\http\\httptools_impl.py\", line 568, in receive\n",
      "    await self.message_event.wait()\n",
      "  File \"C:\\Users\\dai\\anaconda3\\Lib\\asyncio\\locks.py\", line 213, in wait\n",
      "    await fut\n",
      "asyncio.exceptions.CancelledError: Cancelled by cancel scope 170a2184f10\n",
      "\n",
      "During handling of the above exception, another exception occurred:\n",
      "\n",
      "  + Exception Group Traceback (most recent call last):\n",
      "  |   File \"C:\\Users\\dai\\anaconda3\\Lib\\site-packages\\uvicorn\\protocols\\http\\httptools_impl.py\", line 411, in run_asgi\n",
      "  |     result = await app(  # type: ignore[func-returns-value]\n",
      "  |              ^^^^^^^^^^^^^^^^^^^^^^^^^^^^^^^^^^^^^^^^^^^^^^\n",
      "  |   File \"C:\\Users\\dai\\anaconda3\\Lib\\site-packages\\uvicorn\\middleware\\proxy_headers.py\", line 69, in __call__\n",
      "  |     return await self.app(scope, receive, send)\n",
      "  |            ^^^^^^^^^^^^^^^^^^^^^^^^^^^^^^^^^^^^\n",
      "  |   File \"C:\\Users\\dai\\anaconda3\\Lib\\site-packages\\fastapi\\applications.py\", line 1054, in __call__\n",
      "  |     await super().__call__(scope, receive, send)\n",
      "  |   File \"C:\\Users\\dai\\anaconda3\\Lib\\site-packages\\starlette\\applications.py\", line 123, in __call__\n",
      "  |     await self.middleware_stack(scope, receive, send)\n",
      "  |   File \"C:\\Users\\dai\\anaconda3\\Lib\\site-packages\\starlette\\middleware\\errors.py\", line 186, in __call__\n",
      "  |     raise exc\n",
      "  |   File \"C:\\Users\\dai\\anaconda3\\Lib\\site-packages\\starlette\\middleware\\errors.py\", line 164, in __call__\n",
      "  |     await self.app(scope, receive, _send)\n",
      "  |   File \"C:\\Users\\dai\\anaconda3\\Lib\\site-packages\\gradio\\route_utils.py\", line 707, in __call__\n",
      "  |     await self.app(scope, receive, send)\n",
      "  |   File \"C:\\Users\\dai\\anaconda3\\Lib\\site-packages\\starlette\\middleware\\exceptions.py\", line 65, in __call__\n",
      "  |     await wrap_app_handling_exceptions(self.app, conn)(scope, receive, send)\n",
      "  |   File \"C:\\Users\\dai\\anaconda3\\Lib\\site-packages\\starlette\\_exception_handler.py\", line 64, in wrapped_app\n",
      "  |     raise exc\n",
      "  |   File \"C:\\Users\\dai\\anaconda3\\Lib\\site-packages\\starlette\\_exception_handler.py\", line 53, in wrapped_app\n",
      "  |     await app(scope, receive, sender)\n",
      "  |   File \"C:\\Users\\dai\\anaconda3\\Lib\\site-packages\\starlette\\routing.py\", line 756, in __call__\n",
      "  |     await self.middleware_stack(scope, receive, send)\n",
      "  |   File \"C:\\Users\\dai\\anaconda3\\Lib\\site-packages\\starlette\\routing.py\", line 776, in app\n",
      "  |     await route.handle(scope, receive, send)\n",
      "  |   File \"C:\\Users\\dai\\anaconda3\\Lib\\site-packages\\starlette\\routing.py\", line 297, in handle\n",
      "  |     await self.app(scope, receive, send)\n",
      "  |   File \"C:\\Users\\dai\\anaconda3\\Lib\\site-packages\\starlette\\routing.py\", line 77, in app\n",
      "  |     await wrap_app_handling_exceptions(app, request)(scope, receive, send)\n",
      "  |   File \"C:\\Users\\dai\\anaconda3\\Lib\\site-packages\\starlette\\_exception_handler.py\", line 64, in wrapped_app\n",
      "  |     raise exc\n",
      "  |   File \"C:\\Users\\dai\\anaconda3\\Lib\\site-packages\\starlette\\_exception_handler.py\", line 53, in wrapped_app\n",
      "  |     await app(scope, receive, sender)\n",
      "  |   File \"C:\\Users\\dai\\anaconda3\\Lib\\site-packages\\starlette\\routing.py\", line 75, in app\n",
      "  |     await response(scope, receive, send)\n",
      "  |   File \"C:\\Users\\dai\\anaconda3\\Lib\\site-packages\\starlette\\responses.py\", line 258, in __call__\n",
      "  |     async with anyio.create_task_group() as task_group:\n",
      "  |   File \"C:\\Users\\dai\\anaconda3\\Lib\\site-packages\\anyio\\_backends\\_asyncio.py\", line 678, in __aexit__\n",
      "  |     raise BaseExceptionGroup(\n",
      "  | ExceptionGroup: unhandled errors in a TaskGroup (1 sub-exception)\n",
      "  +-+---------------- 1 ----------------\n",
      "    | Traceback (most recent call last):\n",
      "    |   File \"C:\\Users\\dai\\anaconda3\\Lib\\site-packages\\starlette\\responses.py\", line 261, in wrap\n",
      "    |     await func()\n",
      "    |   File \"C:\\Users\\dai\\anaconda3\\Lib\\site-packages\\starlette\\responses.py\", line 250, in stream_response\n",
      "    |     async for chunk in self.body_iterator:\n",
      "    |   File \"C:\\Users\\dai\\anaconda3\\Lib\\site-packages\\gradio\\routes.py\", line 923, in sse_stream\n",
      "    |     raise e\n",
      "    |   File \"C:\\Users\\dai\\anaconda3\\Lib\\site-packages\\gradio\\routes.py\", line 887, in sse_stream\n",
      "    |     response = process_msg(message)\n",
      "    |                ^^^^^^^^^^^^^^^^^^^^\n",
      "    |   File \"C:\\Users\\dai\\anaconda3\\Lib\\site-packages\\gradio\\routes.py\", line 835, in process_msg\n",
      "    |     return f\"data: {orjson.dumps(message.model_dump()).decode('utf-8')}\\n\\n\"\n",
      "    |                     ^^^^^^^^^^^^^^^^^^^^^^^^^^^^^^^^^^\n",
      "    | TypeError: Type is not JSON serializable: frozenset\n",
      "    +------------------------------------\n",
      "C:\\Users\\dai\\anaconda3\\Lib\\site-packages\\starlette\\templating.py:178: DeprecationWarning: The `name` is not the first parameter anymore. The first parameter should be the `Request` instance.\n",
      "Replace `TemplateResponse(name, {\"request\": request})` by `TemplateResponse(request, name)`.\n",
      "  warnings.warn(\n"
     ]
    }
   ],
   "source": [
    "gr.__version__"
   ]
  },
  {
   "cell_type": "code",
   "execution_count": null,
   "metadata": {},
   "outputs": [],
   "source": [
    " "
   ]
  }
 ],
 "metadata": {
  "kernelspec": {
   "display_name": "Python 3 (ipykernel)",
   "language": "python",
   "name": "python3"
  }
 },
 "nbformat": 4,
 "nbformat_minor": 2
}
