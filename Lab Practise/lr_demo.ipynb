{
 "cells": [
  {
   "cell_type": "code",
   "execution_count": 13,
   "id": "e2b1b53c-a7e9-4916-8c88-80134cb9e032",
   "metadata": {},
   "outputs": [],
   "source": [
    "import pandas as pd\n",
    "import numpy as np\n",
    "from sklearn.linear_model import LinearRegression"
   ]
  },
  {
   "cell_type": "code",
   "execution_count": 2,
   "id": "fa6f77ad-4412-4628-a24d-753e0d958b7d",
   "metadata": {},
   "outputs": [],
   "source": [
    "pizza = pd.read_csv(\"Datasets\\pizza.csv\")"
   ]
  },
  {
   "cell_type": "code",
   "execution_count": 8,
   "id": "92ad277d-b5cd-49b1-8efb-c53e82be6ebb",
   "metadata": {},
   "outputs": [],
   "source": [
    "xi  = pizza['Promote']\n",
    "yi  = pizza['Sales']\n",
    "n = pizza.shape[0]\n"
   ]
  },
  {
   "cell_type": "code",
   "execution_count": 11,
   "id": "2418863d-0620-4f08-a245-086d24d667e0",
   "metadata": {},
   "outputs": [
    {
     "name": "stdout",
     "output_type": "stream",
     "text": [
      "51.526315789473685\n",
      "1216.6842105263158\n"
     ]
    }
   ],
   "source": [
    "xbar = np.mean(xi)\n",
    "ybar = np.mean(yi)\n",
    "print(xbar)\n",
    "print(ybar)"
   ]
  },
  {
   "cell_type": "code",
   "execution_count": 10,
   "id": "a6378f83-51e2-43cf-92ef-b804af11b320",
   "metadata": {},
   "outputs": [
    {
     "name": "stdout",
     "output_type": "stream",
     "text": [
      "77345.31578947368\n",
      "3278.3684210526317\n"
     ]
    }
   ],
   "source": [
    "m_xi_yi = np.sum(xi*yi)/n\n",
    "m_xi_2 = np.sum(xi**2)/n\n",
    "print(m_xi_yi)\n",
    "print(m_xi_2)"
   ]
  },
  {
   "cell_type": "code",
   "execution_count": 12,
   "id": "1669640a-1a36-4436-9bab-2f910fd1552d",
   "metadata": {},
   "outputs": [
    {
     "name": "stdout",
     "output_type": "stream",
     "text": [
      "23.506403021550746\n",
      "5.485865363253652\n"
     ]
    }
   ],
   "source": [
    "b1 = (m_xi_yi - (xbar * ybar ))/(m_xi_2 - (xbar**2))\n",
    "b0 = ybar - (b1*xbar)\n",
    "print(b1)\n",
    "print(b0)"
   ]
  },
  {
   "cell_type": "code",
   "execution_count": 16,
   "id": "769f93ed-a08f-4161-b63c-e3aa594d6314",
   "metadata": {},
   "outputs": [
    {
     "data": {
      "text/html": [
       "<style>#sk-container-id-1 {color: black;background-color: white;}#sk-container-id-1 pre{padding: 0;}#sk-container-id-1 div.sk-toggleable {background-color: white;}#sk-container-id-1 label.sk-toggleable__label {cursor: pointer;display: block;width: 100%;margin-bottom: 0;padding: 0.3em;box-sizing: border-box;text-align: center;}#sk-container-id-1 label.sk-toggleable__label-arrow:before {content: \"▸\";float: left;margin-right: 0.25em;color: #696969;}#sk-container-id-1 label.sk-toggleable__label-arrow:hover:before {color: black;}#sk-container-id-1 div.sk-estimator:hover label.sk-toggleable__label-arrow:before {color: black;}#sk-container-id-1 div.sk-toggleable__content {max-height: 0;max-width: 0;overflow: hidden;text-align: left;background-color: #f0f8ff;}#sk-container-id-1 div.sk-toggleable__content pre {margin: 0.2em;color: black;border-radius: 0.25em;background-color: #f0f8ff;}#sk-container-id-1 input.sk-toggleable__control:checked~div.sk-toggleable__content {max-height: 200px;max-width: 100%;overflow: auto;}#sk-container-id-1 input.sk-toggleable__control:checked~label.sk-toggleable__label-arrow:before {content: \"▾\";}#sk-container-id-1 div.sk-estimator input.sk-toggleable__control:checked~label.sk-toggleable__label {background-color: #d4ebff;}#sk-container-id-1 div.sk-label input.sk-toggleable__control:checked~label.sk-toggleable__label {background-color: #d4ebff;}#sk-container-id-1 input.sk-hidden--visually {border: 0;clip: rect(1px 1px 1px 1px);clip: rect(1px, 1px, 1px, 1px);height: 1px;margin: -1px;overflow: hidden;padding: 0;position: absolute;width: 1px;}#sk-container-id-1 div.sk-estimator {font-family: monospace;background-color: #f0f8ff;border: 1px dotted black;border-radius: 0.25em;box-sizing: border-box;margin-bottom: 0.5em;}#sk-container-id-1 div.sk-estimator:hover {background-color: #d4ebff;}#sk-container-id-1 div.sk-parallel-item::after {content: \"\";width: 100%;border-bottom: 1px solid gray;flex-grow: 1;}#sk-container-id-1 div.sk-label:hover label.sk-toggleable__label {background-color: #d4ebff;}#sk-container-id-1 div.sk-serial::before {content: \"\";position: absolute;border-left: 1px solid gray;box-sizing: border-box;top: 0;bottom: 0;left: 50%;z-index: 0;}#sk-container-id-1 div.sk-serial {display: flex;flex-direction: column;align-items: center;background-color: white;padding-right: 0.2em;padding-left: 0.2em;position: relative;}#sk-container-id-1 div.sk-item {position: relative;z-index: 1;}#sk-container-id-1 div.sk-parallel {display: flex;align-items: stretch;justify-content: center;background-color: white;position: relative;}#sk-container-id-1 div.sk-item::before, #sk-container-id-1 div.sk-parallel-item::before {content: \"\";position: absolute;border-left: 1px solid gray;box-sizing: border-box;top: 0;bottom: 0;left: 50%;z-index: -1;}#sk-container-id-1 div.sk-parallel-item {display: flex;flex-direction: column;z-index: 1;position: relative;background-color: white;}#sk-container-id-1 div.sk-parallel-item:first-child::after {align-self: flex-end;width: 50%;}#sk-container-id-1 div.sk-parallel-item:last-child::after {align-self: flex-start;width: 50%;}#sk-container-id-1 div.sk-parallel-item:only-child::after {width: 0;}#sk-container-id-1 div.sk-dashed-wrapped {border: 1px dashed gray;margin: 0 0.4em 0.5em 0.4em;box-sizing: border-box;padding-bottom: 0.4em;background-color: white;}#sk-container-id-1 div.sk-label label {font-family: monospace;font-weight: bold;display: inline-block;line-height: 1.2em;}#sk-container-id-1 div.sk-label-container {text-align: center;}#sk-container-id-1 div.sk-container {/* jupyter's `normalize.less` sets `[hidden] { display: none; }` but bootstrap.min.css set `[hidden] { display: none !important; }` so we also need the `!important` here to be able to override the default hidden behavior on the sphinx rendered scikit-learn.org. See: https://github.com/scikit-learn/scikit-learn/issues/21755 */display: inline-block !important;position: relative;}#sk-container-id-1 div.sk-text-repr-fallback {display: none;}</style><div id=\"sk-container-id-1\" class=\"sk-top-container\"><div class=\"sk-text-repr-fallback\"><pre>LinearRegression()</pre><b>In a Jupyter environment, please rerun this cell to show the HTML representation or trust the notebook. <br />On GitHub, the HTML representation is unable to render, please try loading this page with nbviewer.org.</b></div><div class=\"sk-container\" hidden><div class=\"sk-item\"><div class=\"sk-estimator sk-toggleable\"><input class=\"sk-toggleable__control sk-hidden--visually\" id=\"sk-estimator-id-1\" type=\"checkbox\" checked><label for=\"sk-estimator-id-1\" class=\"sk-toggleable__label sk-toggleable__label-arrow\">LinearRegression</label><div class=\"sk-toggleable__content\"><pre>LinearRegression()</pre></div></div></div></div></div>"
      ],
      "text/plain": [
       "LinearRegression()"
      ]
     },
     "execution_count": 16,
     "metadata": {},
     "output_type": "execute_result"
    }
   ],
   "source": [
    "X  = pizza[['Promote']]\n",
    "y  = pizza['Sales']\n",
    "lr = LinearRegression()\n",
    "lr.fit(X,y)"
   ]
  },
  {
   "cell_type": "code",
   "execution_count": 17,
   "id": "70952d7e-84d5-4025-8939-02bb822d00a9",
   "metadata": {},
   "outputs": [
    {
     "name": "stdout",
     "output_type": "stream",
     "text": [
      "5.4858653632529695 [23.50640302]\n"
     ]
    }
   ],
   "source": [
    "print(lr.intercept_,lr.coef_)"
   ]
  },
  {
   "cell_type": "code",
   "execution_count": 20,
   "id": "1df8ea96-045a-47c2-b796-b58f6012671f",
   "metadata": {},
   "outputs": [
    {
     "name": "stdout",
     "output_type": "stream",
     "text": [
      "[1. 2.]\n"
     ]
    }
   ],
   "source": [
    "A = np.array([[2,1],[3,2]])\n",
    "b = np.array([4,7])\n",
    "print(np.linalg.solve(A,b))"
   ]
  },
  {
   "cell_type": "code",
   "execution_count": 26,
   "id": "a99a6c29-5144-4d20-885c-c671004b7e91",
   "metadata": {},
   "outputs": [
    {
     "data": {
      "text/html": [
       "<div>\n",
       "<style scoped>\n",
       "    .dataframe tbody tr th:only-of-type {\n",
       "        vertical-align: middle;\n",
       "    }\n",
       "\n",
       "    .dataframe tbody tr th {\n",
       "        vertical-align: top;\n",
       "    }\n",
       "\n",
       "    .dataframe thead th {\n",
       "        text-align: right;\n",
       "    }\n",
       "</style>\n",
       "<table border=\"1\" class=\"dataframe\">\n",
       "  <thead>\n",
       "    <tr style=\"text-align: right;\">\n",
       "      <th></th>\n",
       "      <th>Home</th>\n",
       "      <th>Automobile</th>\n",
       "      <th>Operating_Cost</th>\n",
       "    </tr>\n",
       "    <tr>\n",
       "      <th>Branch</th>\n",
       "      <th></th>\n",
       "      <th></th>\n",
       "      <th></th>\n",
       "    </tr>\n",
       "  </thead>\n",
       "  <tbody>\n",
       "    <tr>\n",
       "      <th>B01</th>\n",
       "      <td>400</td>\n",
       "      <td>1200</td>\n",
       "      <td>124000</td>\n",
       "    </tr>\n",
       "    <tr>\n",
       "      <th>B02</th>\n",
       "      <td>350</td>\n",
       "      <td>360</td>\n",
       "      <td>71000</td>\n",
       "    </tr>\n",
       "    <tr>\n",
       "      <th>B03</th>\n",
       "      <td>600</td>\n",
       "      <td>800</td>\n",
       "      <td>136000</td>\n",
       "    </tr>\n",
       "    <tr>\n",
       "      <th>B04</th>\n",
       "      <td>800</td>\n",
       "      <td>1800</td>\n",
       "      <td>219000</td>\n",
       "    </tr>\n",
       "    <tr>\n",
       "      <th>B05</th>\n",
       "      <td>900</td>\n",
       "      <td>1600</td>\n",
       "      <td>230000</td>\n",
       "    </tr>\n",
       "  </tbody>\n",
       "</table>\n",
       "</div>"
      ],
      "text/plain": [
       "        Home  Automobile  Operating_Cost\n",
       "Branch                                  \n",
       "B01      400        1200          124000\n",
       "B02      350         360           71000\n",
       "B03      600         800          136000\n",
       "B04      800        1800          219000\n",
       "B05      900        1600          230000"
      ]
     },
     "execution_count": 26,
     "metadata": {},
     "output_type": "execute_result"
    }
   ],
   "source": [
    "insure = pd.read_csv('Datasets/Insure_auto.csv',index_col=0)\n",
    "insure.head()"
   ]
  },
  {
   "cell_type": "code",
   "execution_count": 27,
   "id": "1031d97c-712b-4d5f-96ba-10ad73972b59",
   "metadata": {},
   "outputs": [],
   "source": [
    "x1 = insure['Home']\n",
    "x2 = insure['Automobile']\n",
    "y = insure['Operating_Cost']"
   ]
  },
  {
   "cell_type": "code",
   "execution_count": 28,
   "id": "af4cdbd7-da05-4847-8309-25adc09fe975",
   "metadata": {},
   "outputs": [],
   "source": [
    "x1_sum = np.sum(x1)\n",
    "x1_2_sum = np.sum(x1*x1)\n",
    "x1_x2_sum = np.sum(x1*x2)\n",
    "x1_y = np.sum(x1*y)"
   ]
  },
  {
   "cell_type": "code",
   "execution_count": 30,
   "id": "691970a5-4e0d-40f4-9549-60801e392ff4",
   "metadata": {},
   "outputs": [],
   "source": [
    "x2_sum = np.sum(x2)\n",
    "x2_2_sum = np.sum(x2*x2)\n",
    "x2_y = np.sum(x2*y)\n",
    "x1_bar = np.mean(x1)\n",
    "x2_bar = np.mean(x2)\n",
    "y_bar = np.mean(y)"
   ]
  },
  {
   "cell_type": "code",
   "execution_count": 31,
   "id": "2f19fed0-8b7d-4b00-a935-fcbec8c094e3",
   "metadata": {},
   "outputs": [],
   "source": [
    "p = np.array([[x1_sum,x1_2_sum,x1_x2_sum],\n",
    "              [x2_sum,x1_x2_sum,x2_2_sum],\n",
    "              [1,x1_bar,x2_bar]])\n",
    "q=np.array([x1_y , x2_y , y_bar])"
   ]
  },
  {
   "cell_type": "code",
   "execution_count": 32,
   "id": "b348293c-d050-4f63-abac-2cf8aabe3a9c",
   "metadata": {},
   "outputs": [
    {
     "name": "stdout",
     "output_type": "stream",
     "text": [
      "[-10084.21313095    167.32668857     54.10529229]\n"
     ]
    }
   ],
   "source": [
    "x=np.linalg.solve(p,q)\n",
    "print(x)"
   ]
  },
  {
   "cell_type": "code",
   "execution_count": 34,
   "id": "c9d50eb3-b973-47d6-b9d3-a6a7a3eac39c",
   "metadata": {},
   "outputs": [
    {
     "name": "stdout",
     "output_type": "stream",
     "text": [
      "-10084.213130948774 [167.32668857  54.10529229]\n"
     ]
    }
   ],
   "source": [
    "X = insure[['Home','Automobile']]\n",
    "y = insure['Operating_Cost']\n",
    "lr = LinearRegression()\n",
    "lr.fit(X,y)\n",
    "print(lr.intercept_ , lr.coef_)"
   ]
  },
  {
   "cell_type": "code",
   "execution_count": null,
   "id": "4c539f75-110f-417c-9d1c-78b9e755e4e4",
   "metadata": {},
   "outputs": [],
   "source": []
  }
 ],
 "metadata": {
  "kernelspec": {
   "display_name": "Python 3 (ipykernel)",
   "language": "python",
   "name": "python3"
  },
  "language_info": {
   "codemirror_mode": {
    "name": "ipython",
    "version": 3
   },
   "file_extension": ".py",
   "mimetype": "text/x-python",
   "name": "python",
   "nbconvert_exporter": "python",
   "pygments_lexer": "ipython3",
   "version": "3.11.7"
  }
 },
 "nbformat": 4,
 "nbformat_minor": 5
}
