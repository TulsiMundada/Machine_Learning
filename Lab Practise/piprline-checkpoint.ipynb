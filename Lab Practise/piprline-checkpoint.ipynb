{
 "cells": [
  {
   "cell_type": "code",
   "execution_count": 8,
   "id": "66ac42c3-4b22-45a5-83b8-5ef30f98aa8a",
   "metadata": {},
   "outputs": [
    {
     "name": "stdout",
     "output_type": "stream",
     "text": [
      "0.7133431144123452\n",
      "Best Degree =  2\n",
      "Best Score =  0.7141846592303489\n"
     ]
    }
   ],
   "source": [
    "import numpy as np\n",
    "import pandas as pd \n",
    "from sklearn.linear_model import LinearRegression , Ridge\n",
    "from sklearn.preprocessing import PolynomialFeatures\n",
    "from sklearn.model_selection import train_test_split , KFold , GridSearchCV \n",
    "from sklearn.metrics import r2_score \n",
    "from sklearn.pipeline import Pipeline\n",
    "from sklearn.model_selection import  cross_val_score\n",
    "##### Boston\n",
    "boston = pd.read_csv(\"Datasets/Boston.csv\")\n",
    "y = boston['medv']\n",
    "X = boston.drop('medv', axis=1)\n",
    "#X_poly = poly.fit_transform(X)\n",
    "\n",
    "X_train, X_test, y_train, y_test = train_test_split(X, y, \n",
    "                                   test_size = 0.3, \n",
    "                                   random_state=24)\n",
    "poly = PolynomialFeatures(degree=1).set_output(transform=\"pandas\")\n",
    "lr = LinearRegression()\n",
    "pipe = Pipeline([(\"POLY\",poly),('LR',lr)])\n",
    "pipe.fit(X_train, y_train)\n",
    "y_pred = pipe.predict(X_test)\n",
    "print(r2_score(y_test, y_pred))\n",
    "\n",
    "kfold = KFold(n_splits=5, shuffle=True,  random_state=24)\n",
    "degrees = [1,2,3,4,5]\n",
    "scores = []\n",
    "lr = LinearRegression()\n",
    "for i in degrees:\n",
    "    poly = PolynomialFeatures(degree=i) \n",
    "    pipe = Pipeline([(\"POLY\",poly),('LR',lr)])\n",
    "    results = cross_val_score(pipe, X,y,cv=kfold)\n",
    "    scores.append(results.mean())\n",
    "    \n",
    "i_max = np.argmax(scores)\n",
    "print(\"Best Degree = \", degrees[i_max])    \n",
    "print(\"Best Score = \", scores[i_max])    \n",
    "    "
   ]
  },
  {
   "cell_type": "code",
   "execution_count": 7,
   "id": "00610267-f63f-49fb-a166-1b7339648d1f",
   "metadata": {},
   "outputs": [
    {
     "name": "stdout",
     "output_type": "stream",
     "text": [
      "{'memory': None, 'steps': [('POLY', PolynomialFeatures(degree=5)), ('LR', LinearRegression())], 'verbose': False, 'POLY': PolynomialFeatures(degree=5), 'LR': LinearRegression(), 'POLY__degree': 5, 'POLY__include_bias': True, 'POLY__interaction_only': False, 'POLY__order': 'C', 'LR__copy_X': True, 'LR__fit_intercept': True, 'LR__n_jobs': None, 'LR__positive': False}\n",
      "0.7141846592303489\n",
      "{'POLY__degree': 2}\n"
     ]
    }
   ],
   "source": [
    "#using grid search\n",
    "print(pipe.get_params())\n",
    "params ={'POLY__degree':[1,2,3,4,5]}\n",
    "gcv= GridSearchCV(pipe,param_grid=params,cv=kfold)\n",
    "gcv.fit(X,y)\n",
    "print(gcv.best_score_)\n",
    "print(gcv.best_params_)"
   ]
  },
  {
   "cell_type": "code",
   "execution_count": 9,
   "id": "5ebf43f8-c1f9-4f1f-8873-801acb61120a",
   "metadata": {},
   "outputs": [
    {
     "name": "stdout",
     "output_type": "stream",
     "text": [
      "{'memory': None, 'steps': [('POLY', PolynomialFeatures(degree=5)), ('LR', LinearRegression())], 'verbose': False, 'POLY': PolynomialFeatures(degree=5), 'LR': LinearRegression(), 'POLY__degree': 5, 'POLY__include_bias': True, 'POLY__interaction_only': False, 'POLY__order': 'C', 'LR__copy_X': True, 'LR__fit_intercept': True, 'LR__n_jobs': None, 'LR__positive': False}\n",
      "0.7141846592303489\n",
      "{'POLY__degree': 2}\n"
     ]
    }
   ],
   "source": [
    "#pipeline with ridge \n",
    "ridge = Ridge()\n",
    "print(pipe.get_params())\n",
    "poly = PolynomialFeatures\n",
    "params ={'POLY__degree':[1,2,3,4,5]}\n",
    "gcv= GridSearchCV(pipe,param_grid=params,cv=kfold)\n",
    "gcv.fit(X,y)\n",
    "print(gcv.best_score_)\n",
    "print(gcv.best_params_)"
   ]
  },
  {
   "cell_type": "code",
   "execution_count": null,
   "id": "90ef2d4d-fd16-46c8-8247-5e18f22fde1d",
   "metadata": {},
   "outputs": [],
   "source": []
  }
 ],
 "metadata": {
  "kernelspec": {
   "display_name": "Python 3 (ipykernel)",
   "language": "python",
   "name": "python3"
  },
  "language_info": {
   "codemirror_mode": {
    "name": "ipython",
    "version": 3
   },
   "file_extension": ".py",
   "mimetype": "text/x-python",
   "name": "python",
   "nbconvert_exporter": "python",
   "pygments_lexer": "ipython3",
   "version": "3.11.7"
  }
 },
 "nbformat": 4,
 "nbformat_minor": 5
}
