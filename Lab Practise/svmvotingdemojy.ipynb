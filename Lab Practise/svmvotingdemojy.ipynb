{
 "cells": [
  {
   "cell_type": "code",
   "execution_count": 1,
   "id": "08a6ac66-ec2c-4c73-bb7c-fabb3fc375a0",
   "metadata": {},
   "outputs": [],
   "source": [
    "import pandas as pd\n",
    "import numpy as np\n",
    "from sklearn.svm import SVC\n",
    "import matplotlib.pyplot as plt\n",
    "from sklearn.metrics import log_loss,roc_auc_score,roc_curve,accuracy_score\n",
    "from sklearn.naive_bayes import BernoulliNB\n",
    "from sklearn.linear_model import LogisticRegression\n",
    "from sklearn.model_selection import StratifiedKFold,cross_val_score\n",
    "from sklearn.model_selection import train_test_split, GridSearchCV ,KFold\n",
    "from sklearn.preprocessing import LabelEncoder , StandardScaler,MinMaxScaler\n",
    "from sklearn.preprocessing import PolynomialFeatures\n",
    "from sklearn.tree import DecisionTreeClassifier\n",
    "from sklearn.tree import plot_tree\n",
    "from sklearn.pipeline import Pipeline\n",
    "from sklearn.model_selection import GridSearchCV\n",
    "from sklearn.ensemble import VotingClassifier\n",
    "from sklearn.discriminant_analysis import LinearDiscriminantAnalysis, QuadraticDiscriminantAnalysis\n"
   ]
  },
  {
   "cell_type": "code",
   "execution_count": 2,
   "id": "f368b609-01c9-4ba8-af1f-8df3ae9ccd1a",
   "metadata": {},
   "outputs": [],
   "source": [
    "\n",
    "kyp = pd.read_csv(\"C:/Users\\dai\\Desktop\\Machine Learning/Cases/Cases/Kyphosis/Kyphosis.csv\")\n",
    "le = LabelEncoder()\n",
    "y = le.fit_transform(kyp['Kyphosis'])\n",
    "X = kyp.drop('Kyphosis',axis=1)\n"
   ]
  },
  {
   "cell_type": "code",
   "execution_count": 3,
   "id": "b7c46f8f-b309-404d-bcff-dec0ed689205",
   "metadata": {},
   "outputs": [],
   "source": [
    "\n",
    "svm_1 = SVC(kernel=\"linear\",\n",
    "            probability = True , random_state=24\n",
    "            )\n",
    "std_scaler = StandardScaler()\n",
    "pipe_1 = Pipeline([('SCL',std_scaler),('SVM',svm_1)])\n",
    "\n",
    "svm_r = SVC(kernel=\"rbf\",\n",
    "            probability = True , random_state=24\n",
    "            )\n",
    "std_scaler = StandardScaler()\n",
    "pipe_r = Pipeline([('SCL',std_scaler),('SVM',svm_r)])\n",
    "\n"
   ]
  },
  {
   "cell_type": "code",
   "execution_count": 4,
   "id": "535897a3-96d1-447a-bba9-4f582acdc761",
   "metadata": {},
   "outputs": [],
   "source": [
    "\n",
    "lr = LogisticRegression()\n",
    "lda = LinearDiscriminantAnalysis()\n",
    "dtc = DecisionTreeClassifier(random_state=24)\n",
    "\n",
    "voting = VotingClassifier([('LR',lr),('SVML',pipe_1),('SVMR',pipe_r),\n",
    "                           ('LDA',lda),('TREE',dtc)],voting='soft')\n",
    "\n",
    "X_train, X_test, y_train, y_test = train_test_split(X, y, \n",
    "                                   test_size = 0.3, \n",
    "                                   random_state=24,\n",
    "                                   stratify = y)\n"
   ]
  },
  {
   "cell_type": "code",
   "execution_count": 5,
   "id": "76f6ff4a-b9f7-476a-98a0-2c02d2526607",
   "metadata": {},
   "outputs": [
    {
     "name": "stdout",
     "output_type": "stream",
     "text": [
      "0.76\n",
      "0.49120837228459485\n"
     ]
    }
   ],
   "source": [
    "\n",
    "voting.fit(X_train,y_train)\n",
    "y_pred = voting.predict(X_test)\n",
    "print(accuracy_score(y_test, y_pred))\n",
    "y_pred_proba = voting.predict_proba(X_test)[:,1]\n",
    "print(log_loss(y_test, y_pred_proba))"
   ]
  },
  {
   "cell_type": "code",
   "execution_count": 6,
   "id": "05811aa7-4db1-40e7-a236-e05a51f49fe6",
   "metadata": {},
   "outputs": [],
   "source": [
    "\n",
    "############\n",
    "kfold = StratifiedKFold(n_splits = 5,shuffle=True,random_state=24)\n",
    "#print(voting.get_params())\n",
    "\n",
    "# params={'SVML__SVM__C':np.linspace(0.001, 3,10),\n",
    "#         'TREE_max_depth':[None,3,2],\n",
    "#         'SVMR__SVM__gamma':np.linspace(0.001, 3,10)\n",
    "#         LR\n",
    "#         }\n"
   ]
  },
  {
   "cell_type": "code",
   "execution_count": 8,
   "id": "032e4fd0-ae82-4a70-9b02-5f806e408d76",
   "metadata": {},
   "outputs": [
    {
     "name": "stdout",
     "output_type": "stream",
     "text": [
      "{'SVML__SVM__C': 0.75075, 'SVMR__SVM__gamma': 3.0, 'TREE__max_depth': 2}\n",
      "-0.4121020126905325\n"
     ]
    }
   ],
   "source": [
    "\n",
    "\n",
    "\n",
    "params={'SVML__SVM__C':np.linspace(0.001, 3,5),\n",
    "        'TREE__max_depth':[None,3,2],\n",
    "        'SVMR__SVM__gamma':np.linspace(0.001, 3,5)\n",
    "        }\n",
    "\n",
    "\n",
    "gcv = GridSearchCV(voting, param_grid=params, cv=kfold ,scoring='neg_log_loss')\n",
    "gcv.fit(X, y)\n",
    "print(gcv.best_params_)\n",
    "print(gcv.best_score_)"
   ]
  },
  {
   "cell_type": "code",
   "execution_count": 12,
   "id": "d7875a9f-ece4-43a8-88b7-5d0acc367514",
   "metadata": {},
   "outputs": [
    {
     "name": "stdout",
     "output_type": "stream",
     "text": [
      "{'LR__C': 3.0, 'SVML__SVM__C': 0.75075, 'SVMR__SVM__C': 3.0, 'SVMR__SVM__gamma': 3.0, 'TREE__max_depth': 2}\n",
      "-0.40978683242881225\n"
     ]
    }
   ],
   "source": [
    "\n",
    "params={'SVML__SVM__C':np.linspace(0.001, 3,5),\n",
    "        'TREE__max_depth':[None,3,2],\n",
    "        'SVMR__SVM__C':np.linspace(0.001, 3,5),\n",
    "        'SVMR__SVM__gamma':np.linspace(0.001, 3,5),\n",
    "        'LR__C':np.linspace(0.001,3,5),\n",
    "        }\n",
    "\n",
    "\n",
    "gcv = GridSearchCV(voting, param_grid=params, cv=kfold ,scoring='neg_log_loss',n_jobs = -1)\n",
    "gcv.fit(X, y)\n",
    "print(gcv.best_params_)\n",
    "print(gcv.best_score_)"
   ]
  },
  {
   "cell_type": "code",
   "execution_count": null,
   "id": "524890db-759b-46a9-b4c2-ca34e3ac07f3",
   "metadata": {},
   "outputs": [],
   "source": [
    "SOlar"
   ]
  },
  {
   "cell_type": "code",
   "execution_count": 13,
   "id": "cb3ba517-e837-4f23-8ac8-32102e49b2f7",
   "metadata": {},
   "outputs": [
    {
     "data": {
      "text/html": [
       "<div>\n",
       "<style scoped>\n",
       "    .dataframe tbody tr th:only-of-type {\n",
       "        vertical-align: middle;\n",
       "    }\n",
       "\n",
       "    .dataframe tbody tr th {\n",
       "        vertical-align: top;\n",
       "    }\n",
       "\n",
       "    .dataframe thead th {\n",
       "        text-align: right;\n",
       "    }\n",
       "</style>\n",
       "<table border=\"1\" class=\"dataframe\">\n",
       "  <thead>\n",
       "    <tr style=\"text-align: right;\">\n",
       "      <th></th>\n",
       "      <th>V1</th>\n",
       "      <th>V2</th>\n",
       "      <th>V3</th>\n",
       "      <th>V4</th>\n",
       "      <th>V5</th>\n",
       "      <th>V6</th>\n",
       "      <th>V7</th>\n",
       "      <th>V8</th>\n",
       "      <th>V9</th>\n",
       "      <th>V10</th>\n",
       "      <th>...</th>\n",
       "      <th>V52</th>\n",
       "      <th>V53</th>\n",
       "      <th>V54</th>\n",
       "      <th>V55</th>\n",
       "      <th>V56</th>\n",
       "      <th>V57</th>\n",
       "      <th>V58</th>\n",
       "      <th>V59</th>\n",
       "      <th>V60</th>\n",
       "      <th>Class</th>\n",
       "    </tr>\n",
       "  </thead>\n",
       "  <tbody>\n",
       "    <tr>\n",
       "      <th>0</th>\n",
       "      <td>0.0200</td>\n",
       "      <td>0.0371</td>\n",
       "      <td>0.0428</td>\n",
       "      <td>0.0207</td>\n",
       "      <td>0.0954</td>\n",
       "      <td>0.0986</td>\n",
       "      <td>0.1539</td>\n",
       "      <td>0.1601</td>\n",
       "      <td>0.3109</td>\n",
       "      <td>0.2111</td>\n",
       "      <td>...</td>\n",
       "      <td>0.0027</td>\n",
       "      <td>0.0065</td>\n",
       "      <td>0.0159</td>\n",
       "      <td>0.0072</td>\n",
       "      <td>0.0167</td>\n",
       "      <td>0.0180</td>\n",
       "      <td>0.0084</td>\n",
       "      <td>0.0090</td>\n",
       "      <td>0.0032</td>\n",
       "      <td>R</td>\n",
       "    </tr>\n",
       "    <tr>\n",
       "      <th>1</th>\n",
       "      <td>0.0453</td>\n",
       "      <td>0.0523</td>\n",
       "      <td>0.0843</td>\n",
       "      <td>0.0689</td>\n",
       "      <td>0.1183</td>\n",
       "      <td>0.2583</td>\n",
       "      <td>0.2156</td>\n",
       "      <td>0.3481</td>\n",
       "      <td>0.3337</td>\n",
       "      <td>0.2872</td>\n",
       "      <td>...</td>\n",
       "      <td>0.0084</td>\n",
       "      <td>0.0089</td>\n",
       "      <td>0.0048</td>\n",
       "      <td>0.0094</td>\n",
       "      <td>0.0191</td>\n",
       "      <td>0.0140</td>\n",
       "      <td>0.0049</td>\n",
       "      <td>0.0052</td>\n",
       "      <td>0.0044</td>\n",
       "      <td>R</td>\n",
       "    </tr>\n",
       "    <tr>\n",
       "      <th>2</th>\n",
       "      <td>0.0262</td>\n",
       "      <td>0.0582</td>\n",
       "      <td>0.1099</td>\n",
       "      <td>0.1083</td>\n",
       "      <td>0.0974</td>\n",
       "      <td>0.2280</td>\n",
       "      <td>0.2431</td>\n",
       "      <td>0.3771</td>\n",
       "      <td>0.5598</td>\n",
       "      <td>0.6194</td>\n",
       "      <td>...</td>\n",
       "      <td>0.0232</td>\n",
       "      <td>0.0166</td>\n",
       "      <td>0.0095</td>\n",
       "      <td>0.0180</td>\n",
       "      <td>0.0244</td>\n",
       "      <td>0.0316</td>\n",
       "      <td>0.0164</td>\n",
       "      <td>0.0095</td>\n",
       "      <td>0.0078</td>\n",
       "      <td>R</td>\n",
       "    </tr>\n",
       "    <tr>\n",
       "      <th>3</th>\n",
       "      <td>0.0100</td>\n",
       "      <td>0.0171</td>\n",
       "      <td>0.0623</td>\n",
       "      <td>0.0205</td>\n",
       "      <td>0.0205</td>\n",
       "      <td>0.0368</td>\n",
       "      <td>0.1098</td>\n",
       "      <td>0.1276</td>\n",
       "      <td>0.0598</td>\n",
       "      <td>0.1264</td>\n",
       "      <td>...</td>\n",
       "      <td>0.0121</td>\n",
       "      <td>0.0036</td>\n",
       "      <td>0.0150</td>\n",
       "      <td>0.0085</td>\n",
       "      <td>0.0073</td>\n",
       "      <td>0.0050</td>\n",
       "      <td>0.0044</td>\n",
       "      <td>0.0040</td>\n",
       "      <td>0.0117</td>\n",
       "      <td>R</td>\n",
       "    </tr>\n",
       "    <tr>\n",
       "      <th>4</th>\n",
       "      <td>0.0762</td>\n",
       "      <td>0.0666</td>\n",
       "      <td>0.0481</td>\n",
       "      <td>0.0394</td>\n",
       "      <td>0.0590</td>\n",
       "      <td>0.0649</td>\n",
       "      <td>0.1209</td>\n",
       "      <td>0.2467</td>\n",
       "      <td>0.3564</td>\n",
       "      <td>0.4459</td>\n",
       "      <td>...</td>\n",
       "      <td>0.0031</td>\n",
       "      <td>0.0054</td>\n",
       "      <td>0.0105</td>\n",
       "      <td>0.0110</td>\n",
       "      <td>0.0015</td>\n",
       "      <td>0.0072</td>\n",
       "      <td>0.0048</td>\n",
       "      <td>0.0107</td>\n",
       "      <td>0.0094</td>\n",
       "      <td>R</td>\n",
       "    </tr>\n",
       "  </tbody>\n",
       "</table>\n",
       "<p>5 rows × 61 columns</p>\n",
       "</div>"
      ],
      "text/plain": [
       "       V1      V2      V3      V4      V5      V6      V7      V8      V9  \\\n",
       "0  0.0200  0.0371  0.0428  0.0207  0.0954  0.0986  0.1539  0.1601  0.3109   \n",
       "1  0.0453  0.0523  0.0843  0.0689  0.1183  0.2583  0.2156  0.3481  0.3337   \n",
       "2  0.0262  0.0582  0.1099  0.1083  0.0974  0.2280  0.2431  0.3771  0.5598   \n",
       "3  0.0100  0.0171  0.0623  0.0205  0.0205  0.0368  0.1098  0.1276  0.0598   \n",
       "4  0.0762  0.0666  0.0481  0.0394  0.0590  0.0649  0.1209  0.2467  0.3564   \n",
       "\n",
       "      V10  ...     V52     V53     V54     V55     V56     V57     V58  \\\n",
       "0  0.2111  ...  0.0027  0.0065  0.0159  0.0072  0.0167  0.0180  0.0084   \n",
       "1  0.2872  ...  0.0084  0.0089  0.0048  0.0094  0.0191  0.0140  0.0049   \n",
       "2  0.6194  ...  0.0232  0.0166  0.0095  0.0180  0.0244  0.0316  0.0164   \n",
       "3  0.1264  ...  0.0121  0.0036  0.0150  0.0085  0.0073  0.0050  0.0044   \n",
       "4  0.4459  ...  0.0031  0.0054  0.0105  0.0110  0.0015  0.0072  0.0048   \n",
       "\n",
       "      V59     V60  Class  \n",
       "0  0.0090  0.0032      R  \n",
       "1  0.0052  0.0044      R  \n",
       "2  0.0095  0.0078      R  \n",
       "3  0.0040  0.0117      R  \n",
       "4  0.0107  0.0094      R  \n",
       "\n",
       "[5 rows x 61 columns]"
      ]
     },
     "execution_count": 13,
     "metadata": {},
     "output_type": "execute_result"
    }
   ],
   "source": [
    "sonar = pd.read_csv(r\"C:\\Users\\dai\\Desktop\\Machine Learning\\Cases\\Cases\\Sonar\\Sonar.csv\")\n",
    "sonar.head()"
   ]
  },
  {
   "cell_type": "code",
   "execution_count": 15,
   "id": "45144680-7586-4862-9143-31e2488b960d",
   "metadata": {},
   "outputs": [],
   "source": [
    "le = LabelEncoder()\n",
    "y = le.fit_transform(sonar['Class'])\n",
    "X = sonar.drop('Class',axis=1)"
   ]
  },
  {
   "cell_type": "code",
   "execution_count": 16,
   "id": "f5f50805-0f27-44e5-9b3e-d795082d3e1e",
   "metadata": {},
   "outputs": [],
   "source": [
    "\n",
    "svm_1 = SVC(kernel=\"linear\",\n",
    "            probability = True , random_state=24\n",
    "            )\n",
    "std_scaler = StandardScaler()\n",
    "pipe_1 = Pipeline([('SCL',std_scaler),('SVM',svm_1)])\n",
    "\n",
    "svm_r = SVC(kernel=\"rbf\",\n",
    "            probability = True , random_state=24\n",
    "            )\n",
    "std_scaler = StandardScaler()\n",
    "pipe_r = Pipeline([('SCL',std_scaler),('SVM',svm_r)])\n"
   ]
  },
  {
   "cell_type": "code",
   "execution_count": 17,
   "id": "ff3a06d7-91f9-485f-86ea-62c83b4e0511",
   "metadata": {},
   "outputs": [],
   "source": [
    "\n",
    "lr = LogisticRegression()\n",
    "lda = LinearDiscriminantAnalysis()\n",
    "dtc = DecisionTreeClassifier(random_state=24)\n",
    "\n",
    "voting = VotingClassifier([('LR',lr),('SVML',pipe_1),('SVMR',pipe_r),\n",
    "                           ('LDA',lda),('TREE',dtc)],voting='soft')\n",
    "\n",
    "X_train, X_test, y_train, y_test = train_test_split(X, y, \n",
    "                                   test_size = 0.3, \n",
    "                                   random_state=24,\n",
    "                                   stratify = y)"
   ]
  },
  {
   "cell_type": "code",
   "execution_count": 18,
   "id": "08b28f8d-67f6-4f3c-babe-9d556b68c021",
   "metadata": {},
   "outputs": [
    {
     "name": "stdout",
     "output_type": "stream",
     "text": [
      "0.8095238095238095\n",
      "0.4468796865159\n"
     ]
    }
   ],
   "source": [
    "voting.fit(X_train,y_train)\n",
    "y_pred = voting.predict(X_test)\n",
    "print(accuracy_score(y_test, y_pred))\n",
    "y_pred_proba = voting.predict_proba(X_test)[:,1]\n",
    "print(log_loss(y_test, y_pred_proba))"
   ]
  },
  {
   "cell_type": "code",
   "execution_count": 19,
   "id": "18b0d1f2-07d4-4c36-a44e-c5a96236ff78",
   "metadata": {},
   "outputs": [],
   "source": [
    "kfold = StratifiedKFold(n_splits = 5,shuffle=True,random_state=24)\n",
    "#print(voting.get_params())"
   ]
  },
  {
   "cell_type": "code",
   "execution_count": 21,
   "id": "5b4a5bf1-7720-4847-96ff-fadbb80080f9",
   "metadata": {},
   "outputs": [
    {
     "name": "stdout",
     "output_type": "stream",
     "text": [
      "LR__C               3.00000\n",
      "SVML__SVM__C        0.75075\n",
      "SVMR__SVM__C        3.00000\n",
      "SVMR__SVM__gamma    0.00100\n",
      "TREE__max_depth         NaN\n",
      "dtype: float64\n",
      "best_score_:- -0.466330230792261\n"
     ]
    }
   ],
   "source": [
    "params={'SVML__SVM__C':np.linspace(0.001, 3,5),\n",
    "        'TREE__max_depth':[None,3,2],\n",
    "        'SVMR__SVM__C':np.linspace(0.001, 3,5),\n",
    "        'SVMR__SVM__gamma':np.linspace(0.001, 3,5),\n",
    "        'LR__C':np.linspace(0.001,3,5),\n",
    "        }\n",
    "\n",
    "\n",
    "gcv = GridSearchCV(voting, param_grid=params, cv=kfold ,scoring='neg_log_loss',n_jobs = -1)\n",
    "gcv.fit(X, y)\n",
    "print(pd.Series(gcv.best_params_))\n",
    "print(\"best_score_:-\",gcv.best_score_)"
   ]
  },
  {
   "cell_type": "code",
   "execution_count": null,
   "id": "7db45d97-4bf3-4096-9974-ffc46b7a8df0",
   "metadata": {},
   "outputs": [],
   "source": []
  },
  {
   "cell_type": "code",
   "execution_count": null,
   "id": "f32ce5e8-4174-4f16-899a-5f917c50d94c",
   "metadata": {},
   "outputs": [],
   "source": []
  }
 ],
 "metadata": {
  "kernelspec": {
   "display_name": "Python 3 (ipykernel)",
   "language": "python",
   "name": "python3"
  },
  "language_info": {
   "codemirror_mode": {
    "name": "ipython",
    "version": 3
   },
   "file_extension": ".py",
   "mimetype": "text/x-python",
   "name": "python",
   "nbconvert_exporter": "python",
   "pygments_lexer": "ipython3",
   "version": "3.11.7"
  }
 },
 "nbformat": 4,
 "nbformat_minor": 5
}
